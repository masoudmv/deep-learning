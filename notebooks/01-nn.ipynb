{
 "cells": [
  {
   "cell_type": "markdown",
   "id": "57c3af9e",
   "metadata": {
    "id": "57c3af9e"
   },
   "source": [
    "# Fully-Connected Neural Nets\n",
    "\n",
    "In this exercise we will implement fully-connected networks using a modular approach. For each layer we will implement a `forward` and a `backward` function. The `forward` function will receive inputs, weights, and other parameters and will return both an output and a `cache` object storing data needed for the backward pass, like this:\n",
    "\n",
    "```python\n",
    "def layer_forward(x, w):\n",
    "  \"\"\" Receive inputs x and weights w \"\"\"\n",
    "  # Do some computations ...\n",
    "  z = # ... some intermediate value\n",
    "  # Do some more computations ...\n",
    "  out = # the output\n",
    "   \n",
    "  cache = (x, w, z, out) # Values we need to compute gradients\n",
    "   \n",
    "  return out, cache\n",
    "```\n",
    "\n",
    "The backward pass will receive upstream derivatives and the `cache` object, and will return gradients with respect to the inputs and weights, like this:\n",
    "\n",
    "```python\n",
    "def layer_backward(dout, cache):\n",
    "  \"\"\"\n",
    "  Receive dout (derivative of loss with respect to outputs) and cache,\n",
    "  and compute derivative with respect to inputs.\n",
    "  \"\"\"\n",
    "  # Unpack cache values\n",
    "  x, w, z, out = cache\n",
    "  \n",
    "  # Use values in cache to compute derivatives\n",
    "  dx = # Derivative of loss with respect to x\n",
    "  dw = # Derivative of loss with respect to w\n",
    "  \n",
    "  return dx, dw\n",
    "```\n",
    "\n",
    "After implementing a bunch of layers this way, we will be able to easily combine them to build classifiers with different architectures."
   ]
  },
  {
   "cell_type": "markdown",
   "id": "c7319e92",
   "metadata": {},
   "source": [
    "# Rules\n",
    "- You are not allowed to add or remove cells. You **must use the provided space to write your code**. If you don't follow this rule, **your Practical Assignment won't be graded**.\n",
    "- You **are** allowed to use **for loops** only in the implementation of the **FullyConnectedNet** class."
   ]
  },
  {
   "cell_type": "markdown",
   "id": "a9d94d8d",
   "metadata": {},
   "source": [
    "# Setup"
   ]
  },
  {
   "cell_type": "code",
   "id": "3ec2709c",
   "metadata": {
    "jupyter": {
     "is_executing": true
    }
   },
   "source": [
    "from Helpers.gradient_check import eval_numerical_gradient, eval_numerical_gradient_array\n",
    "from Helpers.data_utils import get_MNIST_data, get_normalized_data, get_california_housing_data\n",
    "from Helpers.solver import *\n",
    "from builtins import range\n",
    "import numpy as np\n",
    "import matplotlib.pyplot as plt\n",
    "from sklearn.datasets import fetch_california_housing\n",
    "\n",
    "\n",
    "%matplotlib inline\n",
    "plt.rcParams['figure.figsize'] = (10.0, 8.0) # set default size of plots\n",
    "plt.rcParams['image.cmap'] = 'gray'\n",
    "\n",
    "def rel_error(x, y):\n",
    "  \"\"\" returns relative error \"\"\"\n",
    "  return np.max(np.abs(x - y) / (np.maximum(1e-8, np.abs(x) + np.abs(y))))\n",
    "\n",
    "def print_mean_std(x,axis=0):\n",
    "    print(f\"  means: {x.mean(axis=axis)}\")\n",
    "    print(f\"  stds:  {x.std(axis=axis)}\\n\")"
   ],
   "outputs": [],
   "execution_count": null
  },
  {
   "cell_type": "markdown",
   "id": "649895ab",
   "metadata": {
    "id": "649895ab"
   },
   "source": [
    "# Affine layer: forward\n",
    "Implement the `affine_forward` function."
   ]
  },
  {
   "cell_type": "code",
   "id": "03c584b4",
   "metadata": {
    "id": "03c584b4",
    "ExecuteTime": {
     "end_time": "2025-03-31T10:33:53.493520Z",
     "start_time": "2025-03-31T10:33:53.489497Z"
    }
   },
   "source": [
    "def affine_forward(x, w, b):\n",
    "    \"\"\"\n",
    "    Computes the forward pass for an affine (fully-connected) layer.\n",
    "\n",
    "    The input x has shape (N, d_1, ..., d_k) and contains a minibatch of N\n",
    "    examples, where each example x[i] has shape (d_1, ..., d_k). We will\n",
    "    reshape each input into a vector of dimension D = d_1 * ... * d_k, and\n",
    "    then transform it to an output vector of dimension M.\n",
    "\n",
    "    Inputs:\n",
    "    - x: A numpy array containing input data, of shape (N, d_1, ..., d_k)\n",
    "    - w: A numpy array of weights, of shape (D, M)\n",
    "    - b: A numpy array of biases, of shape (M,)\n",
    "\n",
    "    Returns a tuple of:\n",
    "    - out: output, of shape (N, M)\n",
    "    - cache: (x, w, b)\n",
    "    \"\"\"\n",
    "    ###########################################################################\n",
    "    # TODO: Implement the affine forward pass. Store the result in out. You   #\n",
    "    # will need to reshape the input into rows.                               #\n",
    "    ###########################################################################\n",
    "    # *****START OF YOUR CODE (DO NOT DELETE/MODIFY THIS LINE)*****\n",
    "    \n",
    "    vectorized_x = x.reshape(x.shape[0], -1)\n",
    "    out = np.dot(vectorized_x, w) + b\n",
    "    cache = (x, w, b)\n",
    "    return out, cache"
   ],
   "outputs": [],
   "execution_count": 2
  },
  {
   "cell_type": "markdown",
   "id": "acdd5827",
   "metadata": {
    "id": "acdd5827"
   },
   "source": [
    "You can test your implementaion by running the following:"
   ]
  },
  {
   "cell_type": "code",
   "id": "80db2fe8",
   "metadata": {
    "colab": {
     "base_uri": "https://localhost:8080/"
    },
    "id": "80db2fe8",
    "outputId": "1d4985b5-8fd0-46d0-9fd1-c73e5efd5cf6",
    "ExecuteTime": {
     "end_time": "2025-03-31T10:33:54.716338Z",
     "start_time": "2025-03-31T10:33:54.694463Z"
    }
   },
   "source": [
    "# Test the affine_forward function\n",
    "\n",
    "num_inputs = 2\n",
    "input_shape = (4, 5, 6)\n",
    "output_dim = 3\n",
    "\n",
    "input_size = num_inputs * np.prod(input_shape)\n",
    "weight_size = output_dim * np.prod(input_shape)\n",
    "\n",
    "x = np.linspace(-0.1, 0.5, num=input_size).reshape(num_inputs, *input_shape)\n",
    "w = np.linspace(-0.2, 0.3, num=weight_size).reshape(np.prod(input_shape), output_dim)\n",
    "b = np.linspace(-0.3, 0.1, num=output_dim)\n",
    "\n",
    "out, _ = affine_forward(x, w, b)\n",
    "correct_out = np.array([[ 1.49834967,  1.70660132,  1.91485297],\n",
    "                        [ 3.25553199,  3.5141327,   3.77273342]])\n",
    "\n",
    "# Compare your output with ours. The error should be around e-9 or less.\n",
    "print('Testing affine_forward function:')\n",
    "print('difference: ', rel_error(out, correct_out))"
   ],
   "outputs": [
    {
     "name": "stdout",
     "output_type": "stream",
     "text": [
      "Testing affine_forward function:\n",
      "difference:  9.769849468192957e-10\n"
     ]
    }
   ],
   "execution_count": 3
  },
  {
   "cell_type": "markdown",
   "id": "8e64b312",
   "metadata": {
    "id": "8e64b312"
   },
   "source": [
    "# Affine layer: backward\n",
    "Now implement the `affine_backward` function and test your implementation using numeric gradient checking."
   ]
  },
  {
   "cell_type": "code",
   "id": "e61d5b9c",
   "metadata": {
    "id": "e61d5b9c",
    "ExecuteTime": {
     "end_time": "2025-03-31T10:33:56.165742Z",
     "start_time": "2025-03-31T10:33:56.161566Z"
    }
   },
   "source": [
    "def affine_backward(dout, cache):\n",
    "    \"\"\"\n",
    "    Computes the backward pass for an affine layer.\n",
    "\n",
    "    Inputs:\n",
    "    - dout: Upstream derivative, of shape (N, M)\n",
    "    - cache: Tuple of:\n",
    "      - x: Input data, of shape (N, d_1, ... d_k)\n",
    "      - w: Weights, of shape (D, M)\n",
    "      - b: Biases, of shape (M,)\n",
    "\n",
    "    Returns a tuple of:\n",
    "    - dx: Gradient with respect to x, of shape (N, d1, ..., d_k)\n",
    "    - dw: Gradient with respect to w, of shape (D, M)\n",
    "    - db: Gradient with respect to b, of shape (M,)\n",
    "    \"\"\"\n",
    "    ###########################################################################\n",
    "    # TODO: Implement the affine backward pass.                               #\n",
    "    ###########################################################################\n",
    "    # *****START OF YOUR CODE (DO NOT DELETE/MODIFY THIS LINE)*****\n",
    "    x, w, b = cache\n",
    "    N = x.shape[0]\n",
    "    dx = np.dot(dout, w.T).reshape(x.shape)\n",
    "    dw = np.dot(x.reshape(N, -1).T, dout)\n",
    "    db = np.sum(dout, axis=0)\n",
    "    return dx, dw, db"
   ],
   "outputs": [],
   "execution_count": 4
  },
  {
   "cell_type": "code",
   "id": "64de3af3",
   "metadata": {
    "colab": {
     "base_uri": "https://localhost:8080/"
    },
    "id": "64de3af3",
    "outputId": "f6c25859-b012-4584-ce87-00dbbf6a3a52",
    "scrolled": true,
    "ExecuteTime": {
     "end_time": "2025-03-31T10:33:56.896081Z",
     "start_time": "2025-03-31T10:33:56.884725Z"
    }
   },
   "source": [
    "# Test the affine_backward function\n",
    "np.random.seed(231)\n",
    "x = np.random.randn(10, 2, 3)\n",
    "w = np.random.randn(6, 5)\n",
    "b = np.random.randn(5)\n",
    "dout = np.random.randn(10, 5)\n",
    "\n",
    "dx_num = eval_numerical_gradient_array(lambda x: affine_forward(x, w, b)[0], x, dout)\n",
    "dw_num = eval_numerical_gradient_array(lambda w: affine_forward(x, w, b)[0], w, dout)\n",
    "db_num = eval_numerical_gradient_array(lambda b: affine_forward(x, w, b)[0], b, dout)\n",
    "\n",
    "_, cache = affine_forward(x, w, b)\n",
    "dx, dw, db = affine_backward(dout, cache)\n",
    "\n",
    "# The error should be around e-10 or less\n",
    "print('Testing affine_backward function:')\n",
    "print('dx error: ', rel_error(dx_num, dx))\n",
    "print('dw error: ', rel_error(dw_num, dw))\n",
    "print('db error: ', rel_error(db_num, db))"
   ],
   "outputs": [
    {
     "name": "stdout",
     "output_type": "stream",
     "text": [
      "Testing affine_backward function:\n",
      "dx error:  5.399100368651805e-11\n",
      "dw error:  9.904211865398145e-11\n",
      "db error:  2.4122867568119087e-11\n"
     ]
    }
   ],
   "execution_count": 5
  },
  {
   "cell_type": "markdown",
   "id": "af5910d2",
   "metadata": {
    "id": "af5910d2"
   },
   "source": [
    "# ReLU activation: forward\n",
    "Implement the forward pass for the ReLU activation function in the `relu_forward` function and test your implementation using numeric gradient checking."
   ]
  },
  {
   "cell_type": "code",
   "id": "c537098f",
   "metadata": {
    "id": "c537098f",
    "ExecuteTime": {
     "end_time": "2025-03-31T10:34:00.692730Z",
     "start_time": "2025-03-31T10:34:00.688870Z"
    }
   },
   "source": [
    "def relu_forward(x):\n",
    "    \"\"\"\n",
    "    Computes the forward pass for a layer of rectified linear units (ReLUs).\n",
    "\n",
    "    Input:\n",
    "    - x: Inputs, of any shape\n",
    "\n",
    "    Returns a tuple of:\n",
    "    - out: Output, of the same shape as x\n",
    "    - cache: x\n",
    "    \"\"\"\n",
    "    ###########################################################################\n",
    "    # TODO: Implement the ReLU forward pass.                                  #\n",
    "    ###########################################################################\n",
    "    # *****START OF YOUR CODE (DO NOT DELETE/MODIFY THIS LINE)*****\n",
    "    out = np.maximum(0, x)\n",
    "    cache = x\n",
    "    \n",
    "    return out,cache"
   ],
   "outputs": [],
   "execution_count": 6
  },
  {
   "cell_type": "code",
   "id": "4cc17aa4",
   "metadata": {
    "colab": {
     "base_uri": "https://localhost:8080/"
    },
    "id": "4cc17aa4",
    "outputId": "f3bf9919-6fd5-47d5-815a-441054629653",
    "ExecuteTime": {
     "end_time": "2025-03-31T10:34:02.673658Z",
     "start_time": "2025-03-31T10:34:02.667723Z"
    }
   },
   "source": [
    "# Test the relu_forward function\n",
    "\n",
    "x = np.linspace(-0.5, 0.5, num=12).reshape(3, 4)\n",
    "\n",
    "out, _ = relu_forward(x)\n",
    "correct_out = np.array([[ 0.,          0.,          0.,          0.,        ],\n",
    "                        [ 0.,          0.,          0.04545455,  0.13636364,],\n",
    "                        [ 0.22727273,  0.31818182,  0.40909091,  0.5,       ]])\n",
    "\n",
    "# Compare your output with ours. The error should be on the order of e-8\n",
    "print('Testing relu_forward function:')\n",
    "print('difference: ', rel_error(out, correct_out))"
   ],
   "outputs": [
    {
     "name": "stdout",
     "output_type": "stream",
     "text": [
      "Testing relu_forward function:\n",
      "difference:  4.999999798022158e-08\n"
     ]
    }
   ],
   "execution_count": 7
  },
  {
   "cell_type": "markdown",
   "id": "6171f37c",
   "metadata": {
    "id": "6171f37c"
   },
   "source": [
    "# ReLU activation: backward\n",
    "Now implement the backward pass for the ReLU activation function in the `relu_backward` function."
   ]
  },
  {
   "cell_type": "code",
   "id": "3187da88",
   "metadata": {
    "id": "3187da88",
    "ExecuteTime": {
     "end_time": "2025-03-31T10:34:05.450137Z",
     "start_time": "2025-03-31T10:34:05.446665Z"
    }
   },
   "source": [
    "def relu_backward(dout, cache):\n",
    "    \"\"\"\n",
    "    Computes the backward pass for a layer of rectified linear units (ReLUs).\n",
    "\n",
    "    Input:\n",
    "    - dout: Upstream derivatives, of any shape\n",
    "    - cache: Input x, of same shape as dout\n",
    "\n",
    "    Returns:\n",
    "    - dx: Gradient with respect to x\n",
    "    \"\"\"\n",
    "    ###########################################################################\n",
    "    # TODO: Implement the ReLU backward pass.                                 #\n",
    "    ###########################################################################\n",
    "    # *****START OF YOUR CODE (DO NOT DELETE/MODIFY THIS LINE)*****\n",
    "    x = cache\n",
    "    dx = dout * np.where(x > 0, 1, 0)\n",
    "    \n",
    "    return dx"
   ],
   "outputs": [],
   "execution_count": 8
  },
  {
   "cell_type": "markdown",
   "id": "88966dd6",
   "metadata": {
    "id": "88966dd6"
   },
   "source": [
    "You can test your implementation using numeric gradient checking:"
   ]
  },
  {
   "cell_type": "code",
   "id": "e81e30fd",
   "metadata": {
    "colab": {
     "base_uri": "https://localhost:8080/"
    },
    "id": "e81e30fd",
    "outputId": "da3dcfdd-c5a9-4048-a0ae-8c7e4805e77a",
    "ExecuteTime": {
     "end_time": "2025-03-31T10:34:07.012095Z",
     "start_time": "2025-03-31T10:34:07.004859Z"
    }
   },
   "source": [
    "# Test the relu_backward function\n",
    "np.random.seed(231)\n",
    "x = np.random.randn(10, 10)\n",
    "dout = np.random.randn(*x.shape)\n",
    "\n",
    "dx_num = eval_numerical_gradient_array(lambda x: relu_forward(x)[0], x, dout)\n",
    "\n",
    "_, cache = relu_forward(x)\n",
    "dx = relu_backward(dout, cache)\n",
    "\n",
    "# The error should be on the order of e-12\n",
    "print('Testing relu_backward function:')\n",
    "print('dx error: ', rel_error(dx_num, dx))"
   ],
   "outputs": [
    {
     "name": "stdout",
     "output_type": "stream",
     "text": [
      "Testing relu_backward function:\n",
      "dx error:  3.2756349136310288e-12\n"
     ]
    }
   ],
   "execution_count": 9
  },
  {
   "cell_type": "markdown",
   "id": "b0f2e4d2",
   "metadata": {
    "id": "b0f2e4d2"
   },
   "source": [
    "# Sigmoid activation: forward\n",
    "Implement the forward pass for the Sigmoid activation function in the `sigmoid_forward` function and test your implementation using numeric gradient checking."
   ]
  },
  {
   "cell_type": "code",
   "id": "872854b0",
   "metadata": {
    "id": "872854b0",
    "ExecuteTime": {
     "end_time": "2025-03-31T10:34:09.610685Z",
     "start_time": "2025-03-31T10:34:09.606798Z"
    }
   },
   "source": [
    "def sigmoid_forward(x):\n",
    "    \"\"\"\n",
    "    Computes the forward pass for a layer of Sigmoid.\n",
    "\n",
    "    Input:\n",
    "    - x: Inputs, of any shape\n",
    "\n",
    "    Returns a tuple of:\n",
    "    - out: Output, of the same shape as x\n",
    "    - cache: x\n",
    "    \"\"\"\n",
    "    ###########################################################################\n",
    "    # TODO: Implement the Sigmoid forward pass.                               #\n",
    "    ###########################################################################\n",
    "    # *****START OF YOUR CODE (DO NOT DELETE/MODIFY THIS LINE)*****\n",
    "    sigmoid = lambda z: 1/(1 + np.exp(-z))\n",
    "    out = sigmoid(x)\n",
    "    cache = x\n",
    "    \n",
    "    return out, cache"
   ],
   "outputs": [],
   "execution_count": 10
  },
  {
   "cell_type": "code",
   "id": "1aadfec8",
   "metadata": {
    "colab": {
     "base_uri": "https://localhost:8080/"
    },
    "id": "1aadfec8",
    "outputId": "638e990d-1254-4c4c-8b6b-25a6c586cd2e",
    "ExecuteTime": {
     "end_time": "2025-03-31T10:34:10.718968Z",
     "start_time": "2025-03-31T10:34:10.713729Z"
    }
   },
   "source": [
    "# Test the sigmoid_forward function\n",
    "\n",
    "x = np.linspace(-6, 6, num=12).reshape(3, 4)\n",
    "\n",
    "out, _ = sigmoid_forward(x)\n",
    "correct_out = np.array([[0.00247262, 0.00732514, 0.0214955 , 0.06138311],\n",
    "                        [0.16296047, 0.36691963, 0.63308037, 0.83703953],\n",
    "                        [0.93861689, 0.9785045 , 0.99267486, 0.99752738]])\n",
    "\n",
    "# Compare your output with ours. The error should be on the order of e-7\n",
    "print('Testing sigmoid_forward function:')\n",
    "print('difference: ', rel_error(out, correct_out))"
   ],
   "outputs": [
    {
     "name": "stdout",
     "output_type": "stream",
     "text": [
      "Testing sigmoid_forward function:\n",
      "difference:  6.383174040859927e-07\n"
     ]
    }
   ],
   "execution_count": 11
  },
  {
   "cell_type": "markdown",
   "id": "9aa4e6a8",
   "metadata": {
    "id": "9aa4e6a8"
   },
   "source": [
    "# Sigmoid activation: backward\n",
    "Now implement the backward pass for the Sigmoid activation function in the `sigmoid_backward` function."
   ]
  },
  {
   "cell_type": "code",
   "id": "fe527984",
   "metadata": {
    "id": "fe527984",
    "ExecuteTime": {
     "end_time": "2025-03-31T10:34:12.698120Z",
     "start_time": "2025-03-31T10:34:12.694313Z"
    }
   },
   "source": [
    "def sigmoid_backward(dout, cache):\n",
    "    \"\"\"\n",
    "    Computes the backward pass for a layer of Sigmoid.\n",
    "\n",
    "    Input:\n",
    "    - dout: Upstream derivatives, of any shape\n",
    "    - cache: Input x, of same shape as dout\n",
    "\n",
    "    Returns:\n",
    "    - dx: Gradient with respect to x\n",
    "    \"\"\"\n",
    "    ###########################################################################\n",
    "    # TODO: Implement the Sigmoid backward pass.                              #\n",
    "    ###########################################################################\n",
    "    # *****START OF YOUR CODE (DO NOT DELETE/MODIFY THIS LINE)*****\n",
    "    \n",
    "    sigmoid = lambda z: 1/(1 + np.exp(-z))\n",
    "    sigmoid_derivative = lambda x: sigmoid(x) * (1 - sigmoid(x))\n",
    "    dx = dout * sigmoid_derivative(cache)\n",
    "    return dx"
   ],
   "outputs": [],
   "execution_count": 12
  },
  {
   "cell_type": "markdown",
   "id": "b5ec2570",
   "metadata": {
    "id": "b5ec2570"
   },
   "source": [
    "You can test your implementation using numeric gradient checking:"
   ]
  },
  {
   "cell_type": "code",
   "id": "e06a7eef",
   "metadata": {
    "colab": {
     "base_uri": "https://localhost:8080/"
    },
    "id": "e06a7eef",
    "outputId": "9c898268-d74b-4dac-a1ca-7e1f0fdea458",
    "scrolled": true,
    "ExecuteTime": {
     "end_time": "2025-03-31T10:34:13.858389Z",
     "start_time": "2025-03-31T10:34:13.852268Z"
    }
   },
   "source": [
    "# Test the sigmoid_backward function\n",
    "np.random.seed(231)\n",
    "x = np.random.randn(10, 10)\n",
    "dout = np.random.randn(*x.shape)\n",
    "\n",
    "dx_num = eval_numerical_gradient_array(lambda x: sigmoid_forward(x)[0], x, dout)\n",
    "\n",
    "_, cache = sigmoid_forward(x)\n",
    "dx = sigmoid_backward(dout, cache)\n",
    "\n",
    "# The error should be on the order of e-11\n",
    "print('Testing sigmoid_backward function:')\n",
    "print('dx error: ', rel_error(dx_num, dx))"
   ],
   "outputs": [
    {
     "name": "stdout",
     "output_type": "stream",
     "text": [
      "Testing sigmoid_backward function:\n",
      "dx error:  3.446520386706568e-11\n"
     ]
    }
   ],
   "execution_count": 13
  },
  {
   "cell_type": "markdown",
   "id": "1eb8d7a7",
   "metadata": {
    "id": "1eb8d7a7"
   },
   "source": [
    "# \"Sandwich\" layers\n",
    "There are some common patterns of layers that are frequently used in neural nets. For example, affine layers are frequently followed by a ReLU nonlinearity. Implement the forward and backward pass for the affine layer followed by a ReLU nonlinearity in the `affine_relu_forward` and `affine_relu_backward` functions."
   ]
  },
  {
   "cell_type": "code",
   "id": "7283bd3d",
   "metadata": {
    "id": "7283bd3d",
    "ExecuteTime": {
     "end_time": "2025-03-31T10:34:15.274393Z",
     "start_time": "2025-03-31T10:34:15.271508Z"
    }
   },
   "source": [
    "def affine_relu_forward(x, w, b):\n",
    "    \"\"\"\n",
    "    Convenience layer that performs an affine transform followed by a ReLU\n",
    "\n",
    "    Inputs:\n",
    "    - x: Input to the affine layer\n",
    "    - w, b: Weights for the affine layer\n",
    "\n",
    "    Returns a tuple of:\n",
    "    - out: Output from the ReLU\n",
    "    - cache: Object to give to the backward pass\n",
    "    \"\"\"\n",
    "    ###########################################################################\n",
    "    # TODO: Implement the affine-RELU forward pass.                           #\n",
    "    ###########################################################################\n",
    "    # *****START OF YOUR CODE (DO NOT DELETE/MODIFY THIS LINE)*****\n",
    "    \n",
    "    z, fc_cache = affine_forward(x, w, b)\n",
    "    out, relu_cache = relu_forward(z)\n",
    "    cache = (fc_cache, relu_cache)\n",
    "    return out ,cache"
   ],
   "outputs": [],
   "execution_count": 14
  },
  {
   "cell_type": "code",
   "id": "00e27852",
   "metadata": {
    "id": "00e27852",
    "ExecuteTime": {
     "end_time": "2025-03-31T10:34:16.011441Z",
     "start_time": "2025-03-31T10:34:16.006698Z"
    }
   },
   "source": [
    "def affine_relu_backward(dout, cache):\n",
    "    \"\"\"\n",
    "    Backward pass for the affine-relu convenience layer\n",
    "\n",
    "    Inputs:\n",
    "    - dout: Upstream derivatives, of any shape\n",
    "    - cache: (fc_cache, relu_cache)\n",
    "\n",
    "    Returns a tuple of:\n",
    "    - dx: Gradient with respect to x\n",
    "    - dw: Gradient with respect to w\n",
    "    - db: Gradient with respect to b\n",
    "    \"\"\"\n",
    "    ###########################################################################\n",
    "    # TODO: Implement the affine-RELU backward pass.                          #\n",
    "    ###########################################################################\n",
    "    # *****START OF YOUR CODE (DO NOT DELETE/MODIFY THIS LINE)*****\n",
    "    fc_cache, relu_cache = cache\n",
    "    z = relu_backward(dout, relu_cache)\n",
    "    dx, dw, db = affine_backward(z, fc_cache)\n",
    "    return dx,dw,db"
   ],
   "outputs": [],
   "execution_count": 15
  },
  {
   "cell_type": "markdown",
   "id": "ccdd0b18",
   "metadata": {
    "id": "ccdd0b18"
   },
   "source": [
    "You can test your implementation using numeric gradient checking:"
   ]
  },
  {
   "cell_type": "code",
   "id": "d53fb1c9",
   "metadata": {
    "colab": {
     "base_uri": "https://localhost:8080/"
    },
    "id": "d53fb1c9",
    "outputId": "d35bd56c-f1cc-4ede-dfaa-3a308c2e3887",
    "ExecuteTime": {
     "end_time": "2025-03-31T10:34:17.238152Z",
     "start_time": "2025-03-31T10:34:17.229182Z"
    }
   },
   "source": [
    "# Test the affine_relu_backward function\n",
    "\n",
    "np.random.seed(231)\n",
    "x = np.random.randn(2, 3, 4)\n",
    "w = np.random.randn(12, 10)\n",
    "b = np.random.randn(10)\n",
    "dout = np.random.randn(2, 10)\n",
    "\n",
    "out, cache = affine_relu_forward(x, w, b)\n",
    "dx, dw, db = affine_relu_backward(dout, cache)\n",
    "\n",
    "dx_num = eval_numerical_gradient_array(lambda x: affine_relu_forward(x, w, b)[0], x, dout)\n",
    "dw_num = eval_numerical_gradient_array(lambda w: affine_relu_forward(x, w, b)[0], w, dout)\n",
    "db_num = eval_numerical_gradient_array(lambda b: affine_relu_forward(x, w, b)[0], b, dout)\n",
    "\n",
    "# Relative error should be around e-10 or less\n",
    "print('Testing affine_relu_forward and affine_relu_backward:')\n",
    "print('dx error: ', rel_error(dx_num, dx))\n",
    "print('dw error: ', rel_error(dw_num, dw))\n",
    "print('db error: ', rel_error(db_num, db))"
   ],
   "outputs": [
    {
     "name": "stdout",
     "output_type": "stream",
     "text": [
      "Testing affine_relu_forward and affine_relu_backward:\n",
      "dx error:  2.299579177309368e-11\n",
      "dw error:  8.162011105764925e-11\n",
      "db error:  7.826724021458994e-12\n"
     ]
    }
   ],
   "execution_count": 16
  },
  {
   "cell_type": "markdown",
   "id": "0bd6b07f",
   "metadata": {
    "id": "0bd6b07f"
   },
   "source": [
    "# Batch Normalization: Forward Pass\n",
    "Implement the batch normalization forward pass in the function `batchnorm_forward`."
   ]
  },
  {
   "cell_type": "code",
   "id": "7ae14e5d",
   "metadata": {
    "id": "7ae14e5d",
    "ExecuteTime": {
     "end_time": "2025-03-31T10:34:19.543245Z",
     "start_time": "2025-03-31T10:34:19.537595Z"
    }
   },
   "source": [
    "def batchnorm_forward(x, gamma, beta, bn_param):\n",
    "    \"\"\"Forward pass for batch normalization.\n",
    "\n",
    "    During training the sample mean and (uncorrected) sample variance are\n",
    "    computed from minibatch statistics and used to normalize the incoming data.\n",
    "    During training, we also keep an exponentially decaying running mean of the\n",
    "    mean and variance of each feature, and these averages are used to normalize\n",
    "    data at test-time.\n",
    "\n",
    "    At each timestep we update the running averages for mean and variance using\n",
    "    an exponential decay based on the momentum parameter:\n",
    "\n",
    "    running_mean = momentum * running_mean + (1 - momentum) * sample_mean\n",
    "    running_var = momentum * running_var + (1 - momentum) * sample_var\n",
    "\n",
    "    Input:\n",
    "    - x: Data of shape (N, D)\n",
    "    - gamma: Scale parameter of shape (D, )\n",
    "    - beta: Shift parameter of shape (D, )\n",
    "    - bn_param: Dictionary with the following keys:\n",
    "      - mode: 'train' or 'test'; required\n",
    "      - eps: Constant for numeric stability\n",
    "      - momentum: Constant for running mean / variance.\n",
    "      - running_mean: Array of shape (D, ) giving running mean of features\n",
    "      - running_var Array of shape (D, ) giving running variance of features\n",
    "\n",
    "    Returns a tuple of:\n",
    "    - out: of shape (N, D)\n",
    "    - cache: A tuple of values needed in the backward pass\n",
    "    \"\"\"\n",
    "    mode = bn_param[\"mode\"]\n",
    "    eps = bn_param.get(\"eps\", 1e-5)\n",
    "    momentum = bn_param.get(\"momentum\", 0.9)\n",
    "\n",
    "    N, D = x.shape\n",
    "    running_mean = bn_param.get(\"running_mean\", np.zeros(D, dtype=x.dtype))\n",
    "    running_var = bn_param.get(\"running_var\", np.zeros(D, dtype=x.dtype))\n",
    "\n",
    "    out, cache = None, None\n",
    "    if mode == \"train\":\n",
    "        #######################################################################\n",
    "        # TODO: Implement the training-time forward pass for batch norm.      #\n",
    "        # Use minibatch statistics to compute the mean and variance, use      #\n",
    "        # these statistics to normalize the incoming data, and scale and      #\n",
    "        # shift the normalized data using gamma and beta.                     #\n",
    "        #                                                                     #\n",
    "        # You should store the output in the variable out. Any intermediates  #\n",
    "        # that you need for the backward pass should be stored in the cache   #\n",
    "        # variable.                                                           #\n",
    "        #                                                                     #\n",
    "        # You should also use your computed sample mean and variance together #\n",
    "        # with the momentum variable to update the running mean and running   #\n",
    "        # variance, storing your result in the running_mean and running_var   #\n",
    "        # variables.                                                          #\n",
    "        #                                                                     #\n",
    "        # Note that though you should be keeping track of the running         #\n",
    "        # variance, you should normalize the data based on the standard       #\n",
    "        # deviation (square root of variance) instead!                        #\n",
    "        #######################################################################\n",
    "        # *****START OF YOUR CODE (DO NOT DELETE/MODIFY THIS LINE)*****\n",
    "        \n",
    "        mean = np.mean(x, axis=0)\n",
    "        var = np.mean((x - mean)**2, axis=0)\n",
    "        \n",
    "        running_mean = momentum * running_mean + (1 - momentum) * mean\n",
    "        running_var = momentum * running_var + (1 - momentum) * var\n",
    "        \n",
    "        # *****END OF YOUR CODE (DO NOT DELETE/MODIFY THIS LINE)*****\n",
    "        #######################################################################\n",
    "        #                           END OF YOUR CODE                          #\n",
    "        #######################################################################\n",
    "    elif mode == \"test\":\n",
    "        #######################################################################\n",
    "        # TODO: Implement the test-time forward pass for batch normalization. #\n",
    "        # Use the running mean and variance to normalize the incoming data,   #\n",
    "        # then scale and shift the normalized data using gamma and beta.      #\n",
    "        # Store the result in the out variable.                               #\n",
    "        #######################################################################\n",
    "        # *****START OF YOUR CODE (DO NOT DELETE/MODIFY THIS LINE)*****\n",
    "        mean = running_mean\n",
    "        var = running_var\n",
    "        \n",
    "        # *****END OF YOUR CODE (DO NOT DELETE/MODIFY THIS LINE)*****\n",
    "        #######################################################################\n",
    "        #                          END OF YOUR CODE                           #\n",
    "        #######################################################################\n",
    "    else:\n",
    "        raise ValueError('Invalid forward batchnorm mode \"%s\"' % mode)\n",
    "    \n",
    "    x_mu = x - mean\n",
    "    inv_var = 1. / np.sqrt(var + eps) \n",
    "    x_hat = x_mu * inv_var\n",
    "    out = gamma * x_hat + beta\n",
    "    \n",
    "    \n",
    "    cache = (x_mu, inv_var, x_hat, gamma)\n",
    "\n",
    "    # Store the updated running means back into bn_param\n",
    "    bn_param[\"running_mean\"] = running_mean\n",
    "    bn_param[\"running_var\"] = running_var\n",
    "\n",
    "    return out, cache"
   ],
   "outputs": [],
   "execution_count": 17
  },
  {
   "cell_type": "markdown",
   "id": "54b94ccd",
   "metadata": {
    "id": "54b94ccd"
   },
   "source": [
    "Run the following to test your implementation."
   ]
  },
  {
   "cell_type": "code",
   "id": "71831d47",
   "metadata": {
    "colab": {
     "base_uri": "https://localhost:8080/"
    },
    "id": "71831d47",
    "outputId": "a95f0b82-dc1c-4183-f396-76ffff781bac",
    "ExecuteTime": {
     "end_time": "2025-03-31T10:34:20.790921Z",
     "start_time": "2025-03-31T10:34:20.769789Z"
    }
   },
   "source": [
    "# Check the training-time forward pass by checking means and variances\n",
    "# of features both before and after batch normalization\n",
    "\n",
    "# Simulate the forward pass for a two-layer network.\n",
    "np.random.seed(231)\n",
    "N, D1, D2, D3 = 200, 50, 60, 3\n",
    "X = np.random.randn(N, D1)\n",
    "W1 = np.random.randn(D1, D2)\n",
    "W2 = np.random.randn(D2, D3)\n",
    "a = np.maximum(0, X.dot(W1)).dot(W2)\n",
    "\n",
    "print('Before batch normalization:')\n",
    "print_mean_std(a,axis=0)\n",
    "\n",
    "gamma = np.ones((D3,))\n",
    "beta = np.zeros((D3,))\n",
    "\n",
    "# Means should be close to zero and stds close to one.\n",
    "print('After batch normalization (gamma=1, beta=0)')\n",
    "a_norm, _ = batchnorm_forward(a, gamma, beta, {'mode': 'train'})\n",
    "print_mean_std(a_norm,axis=0)\n",
    "\n",
    "gamma = np.asarray([1.0, 2.0, 3.0])\n",
    "beta = np.asarray([11.0, 12.0, 13.0])\n",
    "\n",
    "# Now means should be close to beta and stds close to gamma.\n",
    "print('After batch normalization (gamma=', gamma, ', beta=', beta, ')')\n",
    "a_norm, _ = batchnorm_forward(a, gamma, beta, {'mode': 'train'})\n",
    "print_mean_std(a_norm,axis=0)"
   ],
   "outputs": [
    {
     "name": "stdout",
     "output_type": "stream",
     "text": [
      "Before batch normalization:\n",
      "  means: [ -2.3814598  -13.18038246   1.91780462]\n",
      "  stds:  [27.18502186 34.21455511 37.68611762]\n",
      "\n",
      "After batch normalization (gamma=1, beta=0)\n",
      "  means: [5.99520433e-17 6.93889390e-17 8.32667268e-19]\n",
      "  stds:  [0.99999999 1.         1.        ]\n",
      "\n",
      "After batch normalization (gamma= [1. 2. 3.] , beta= [11. 12. 13.] )\n",
      "  means: [11. 12. 13.]\n",
      "  stds:  [0.99999999 1.99999999 2.99999999]\n",
      "\n"
     ]
    }
   ],
   "execution_count": 18
  },
  {
   "cell_type": "code",
   "id": "d89dca02",
   "metadata": {
    "colab": {
     "base_uri": "https://localhost:8080/"
    },
    "id": "d89dca02",
    "outputId": "1702ac18-9b30-4c5f-8f4d-e7e65c42691f",
    "ExecuteTime": {
     "end_time": "2025-03-31T10:34:23.410596Z",
     "start_time": "2025-03-31T10:34:23.387323Z"
    }
   },
   "source": [
    "# Check the test-time forward pass by running the training-time\n",
    "# forward pass many times to warm up the running averages, and then\n",
    "# checking the means and variances of activations after a test-time\n",
    "# forward pass.\n",
    "\n",
    "np.random.seed(231)\n",
    "N, D1, D2, D3 = 200, 50, 60, 3\n",
    "W1 = np.random.randn(D1, D2)\n",
    "W2 = np.random.randn(D2, D3)\n",
    "\n",
    "bn_param = {'mode': 'train'}\n",
    "gamma = np.ones(D3)\n",
    "beta = np.zeros(D3)\n",
    "\n",
    "for t in range(50):\n",
    "    X = np.random.randn(N, D1)\n",
    "    a = np.maximum(0, X.dot(W1)).dot(W2)\n",
    "    batchnorm_forward(a, gamma, beta, bn_param)\n",
    "\n",
    "bn_param['mode'] = 'test'\n",
    "X = np.random.randn(N, D1)\n",
    "a = np.maximum(0, X.dot(W1)).dot(W2)\n",
    "a_norm, _ = batchnorm_forward(a, gamma, beta, bn_param)\n",
    "\n",
    "# Means should be close to zero and stds close to one, but will be\n",
    "# noisier than training-time forward passes.\n",
    "print('After batch normalization (test-time):')\n",
    "print_mean_std(a_norm,axis=0)"
   ],
   "outputs": [
    {
     "name": "stdout",
     "output_type": "stream",
     "text": [
      "After batch normalization (test-time):\n",
      "  means: [-0.03927354 -0.04349152 -0.10452688]\n",
      "  stds:  [1.01531428 1.01238373 0.97819988]\n",
      "\n"
     ]
    }
   ],
   "execution_count": 19
  },
  {
   "cell_type": "markdown",
   "id": "07719acb",
   "metadata": {
    "id": "07719acb"
   },
   "source": [
    "# Batch Normalization: Backward Pass\n",
    "Now implement the backward pass for batch normalization in the function `batchnorm_backward`.\n",
    "\n",
    "In the forward pass, given a set of inputs $X=\\begin{bmatrix}x_1\\\\x_2\\\\...\\\\x_N\\end{bmatrix}$,\n",
    "\n",
    "we first calculate the mean $\\mu$ and variance $var$.\n",
    "With $\\mu$ and $var$ calculated, we can calculate the standard deviation $\\sigma$  and normalized data $Y$.\n",
    "The equations below describe the computation ($y_i$ is the i-th element of the vector $Y$).\n",
    "\n",
    "\\begin{align}\n",
    "& \\mu=\\frac{1}{N}\\sum_{k=1}^N x_k  &  var=\\frac{1}{N}\\sum_{k=1}^N (x_k-\\mu)^2 \\\\\n",
    "& \\sigma=\\sqrt{v+\\epsilon}         &  y_i=\\frac{x_i-\\mu}{\\sigma}\n",
    "\\end{align}"
   ]
  },
  {
   "cell_type": "markdown",
   "id": "462af44e",
   "metadata": {
    "id": "462af44e"
   },
   "source": [
    "You should make sure each of the intermediary gradient derivations are all as simplified as possible, for ease of implementation."
   ]
  },
  {
   "cell_type": "code",
   "id": "07b2bf8c",
   "metadata": {
    "id": "07b2bf8c",
    "ExecuteTime": {
     "end_time": "2025-03-31T10:34:24.583451Z",
     "start_time": "2025-03-31T10:34:24.577756Z"
    }
   },
   "source": [
    "def batchnorm_backward(dout, cache):\n",
    "    \"\"\"Backward pass for batch normalization.\n",
    "\n",
    "    For this implementation, you should write out a computation graph for\n",
    "    batch normalization on paper and propagate gradients backward through\n",
    "    intermediate nodes.\n",
    "\n",
    "    Inputs:\n",
    "    - dout: Upstream derivatives, of shape (N, D)\n",
    "    - cache: Variable of intermediates from batchnorm_forward.\n",
    "\n",
    "    Returns a tuple of:\n",
    "    - dx: Gradient with respect to inputs x, of shape (N, D)\n",
    "    - dgamma: Gradient with respect to scale parameter gamma, of shape (D,)\n",
    "    - dbeta: Gradient with respect to shift parameter beta, of shape (D,)\n",
    "    \"\"\"\n",
    "    ###########################################################################\n",
    "    # TODO: Implement the backward pass for batch normalization. Store the    #\n",
    "    # results in the dx, dgamma, and dbeta variables.                         #\n",
    "    ###########################################################################\n",
    "    # *****START OF YOUR CODE (DO NOT DELETE/MODIFY THIS LINE)           *****#\n",
    "    \n",
    "    N, D = dout.shape\n",
    "    x_mu, inv_var, x_hat, gamma = cache\n",
    "    \n",
    "    dxhat = dout * gamma\n",
    "    \n",
    "    dx = (1. / N) * inv_var * (N * dxhat - np.sum(dxhat, axis=0) - x_hat * np.sum(dxhat * x_hat, axis=0))\n",
    "    \n",
    "    dbeta = np.sum(dout, axis=0)\n",
    "    dgamma = np.sum(x_hat * dout, axis=0)\n",
    "    \n",
    "    return dx, dgamma, dbeta"
   ],
   "outputs": [],
   "execution_count": 20
  },
  {
   "cell_type": "markdown",
   "id": "d6891d0a",
   "metadata": {
    "id": "d6891d0a"
   },
   "source": [
    "Run the following to numerically check your backward pass."
   ]
  },
  {
   "cell_type": "code",
   "id": "e615e6b0",
   "metadata": {
    "colab": {
     "base_uri": "https://localhost:8080/"
    },
    "id": "e615e6b0",
    "outputId": "0198d18f-3ab2-4a12-b058-68f51c9762ca",
    "ExecuteTime": {
     "end_time": "2025-03-31T10:34:26.909637Z",
     "start_time": "2025-03-31T10:34:26.900657Z"
    }
   },
   "source": [
    "# Gradient check batchnorm backward pass.\n",
    "np.random.seed(231)\n",
    "N, D = 4, 5\n",
    "x = 5 * np.random.randn(N, D) + 12\n",
    "gamma = np.random.randn(D)\n",
    "beta = np.random.randn(D)\n",
    "dout = np.random.randn(N, D)\n",
    "\n",
    "bn_param = {'mode': 'train'}\n",
    "fx = lambda x: batchnorm_forward(x, gamma, beta, bn_param)[0]\n",
    "fg = lambda a: batchnorm_forward(x, a, beta, bn_param)[0]\n",
    "fb = lambda b: batchnorm_forward(x, gamma, b, bn_param)[0]\n",
    "\n",
    "dx_num = eval_numerical_gradient_array(fx, x, dout)\n",
    "da_num = eval_numerical_gradient_array(fg, gamma.copy(), dout)\n",
    "db_num = eval_numerical_gradient_array(fb, beta.copy(), dout)\n",
    "\n",
    "_, cache = batchnorm_forward(x, gamma, beta, bn_param)\n",
    "dx, dgamma, dbeta = batchnorm_backward(dout, cache)\n",
    "\n",
    "# You should expect to see relative errors between 1e-13 and 1e-8.\n",
    "print('dx error: ', rel_error(dx_num, dx))\n",
    "print('dgamma error: ', rel_error(da_num, dgamma))\n",
    "print('dbeta error: ', rel_error(db_num, dbeta))"
   ],
   "outputs": [
    {
     "name": "stdout",
     "output_type": "stream",
     "text": [
      "dx error:  1.667461836271981e-09\n",
      "dgamma error:  7.417225040694815e-13\n",
      "dbeta error:  2.379446949959628e-12\n"
     ]
    }
   ],
   "execution_count": 21
  },
  {
   "cell_type": "markdown",
   "id": "a9227f7e",
   "metadata": {
    "id": "a9227f7e"
   },
   "source": [
    "# Loss layer: Softmax\n",
    "Now implement the loss and gradient for softmax in the `softmax_loss` function."
   ]
  },
  {
   "metadata": {
    "ExecuteTime": {
     "end_time": "2025-03-31T10:34:30.361006Z",
     "start_time": "2025-03-31T10:34:30.357059Z"
    }
   },
   "cell_type": "code",
   "source": [
    "def softmax_loss(x, y):\n",
    "    \"\"\"\n",
    "    Computes the loss and gradient for softmax classification.\n",
    "\n",
    "    Inputs:\n",
    "    - x: Input data, of shape (N, C) where x[i, j] is the score for the jth\n",
    "      class for the ith input.\n",
    "    - y: Vector of labels, of shape (N,) where y[i] is the label for x[i] and\n",
    "      0 <= y[i] < C\n",
    "\n",
    "    Returns a tuple of:\n",
    "    - loss: Scalar giving the loss\n",
    "    - dx: Gradient of the loss with respect to x\n",
    "    \"\"\"\n",
    "    ###########################################################################\n",
    "    # TODO: Implement the softmax_loss function.                              #\n",
    "    ###########################################################################\n",
    "    # *****START OF YOUR CODE (DO NOT DELETE/MODIFY THIS LINE)***** \n",
    "    \n",
    "    m = x.shape[0]\n",
    "    \n",
    "    softmax = lambda z: np.exp(z) / np.sum(np.exp(z), axis=1, keepdims=True) \n",
    "    p = softmax(x)\n",
    "    \n",
    "    loss = -np.mean(np.log(p[np.arange(m), y]))\n",
    "    dx = p.copy()\n",
    "    dx[np.arange(m), y] -= 1\n",
    "    dx /= m\n",
    "    \n",
    "   \n",
    "    return loss, dx"
   ],
   "id": "b0abcf7cef3286d6",
   "outputs": [],
   "execution_count": 22
  },
  {
   "cell_type": "markdown",
   "id": "afee8350",
   "metadata": {
    "id": "afee8350"
   },
   "source": [
    "You can make sure that the implementations are correct by running the following:"
   ]
  },
  {
   "cell_type": "code",
   "id": "ca558e12",
   "metadata": {
    "colab": {
     "base_uri": "https://localhost:8080/"
    },
    "id": "ca558e12",
    "outputId": "e67294fd-890a-484e-8db8-c196adfdb838",
    "scrolled": false,
    "ExecuteTime": {
     "end_time": "2025-03-31T10:34:31.397736Z",
     "start_time": "2025-03-31T10:34:31.345393Z"
    }
   },
   "source": [
    "np.random.seed(231)\n",
    "num_classes, num_inputs = 10, 50\n",
    "x = 0.001 * np.random.randn(num_inputs, num_classes)\n",
    "y = np.random.randint(num_classes, size=num_inputs)\n",
    "\n",
    "dx_num = eval_numerical_gradient(lambda x: softmax_loss(x, y)[0], x, verbose=False)\n",
    "loss, dx = softmax_loss(x, y)\n",
    "\n",
    "# Test softmax_loss function. Loss should be close to 2.3 and dx error should be around e-8\n",
    "print('\\nTesting softmax_loss:')\n",
    "print('loss: ', loss)\n",
    "print('dx error: ', rel_error(dx_num, dx))"
   ],
   "outputs": [
    {
     "name": "stdout",
     "output_type": "stream",
     "text": [
      "\n",
      "Testing softmax_loss:\n",
      "loss:  2.302545844500738\n",
      "dx error:  9.483503037636722e-09\n"
     ]
    }
   ],
   "execution_count": 23
  },
  {
   "cell_type": "markdown",
   "id": "31d4492a",
   "metadata": {
    "id": "31d4492a"
   },
   "source": [
    "# Loss layer: MSE\n",
    "Now implement the loss and gradient for mean squared error in the `mse_loss` function."
   ]
  },
  {
   "cell_type": "code",
   "id": "92f5cdd9",
   "metadata": {
    "id": "92f5cdd9",
    "ExecuteTime": {
     "end_time": "2025-03-31T10:34:34.235630Z",
     "start_time": "2025-03-31T10:34:34.232302Z"
    }
   },
   "source": [
    "def mse_loss(x, y):\n",
    "    \"\"\"\n",
    "    Computes the loss and gradient for MSE loss.\n",
    "\n",
    "    Inputs:\n",
    "    - x: Input data, of shape (N,) where x[i] is the predicted vector for\n",
    "        the ith input.\n",
    "    - y: Vector of target values, of shape (N,) where y[i] is the target value\n",
    "        for the ith input.\n",
    "\n",
    "    Returns a tuple of:\n",
    "    - loss: Scalar giving the loss\n",
    "    - dx: Gradient of the loss with respect to x\n",
    "    \"\"\"\n",
    "    ###########################################################################\n",
    "    # TODO: Implement the mse_loss function.                                  #\n",
    "    ###########################################################################\n",
    "    # *****START OF YOUR CODE (DO NOT DELETE/MODIFY THIS LINE)*****\n",
    "    \n",
    "    m = x.shape[0]\n",
    "    \n",
    "    loss = np.mean((x - y)**2)\n",
    "    dx = 2 * (x - y) / m\n",
    "    \n",
    "    \n",
    "    return loss, dx"
   ],
   "outputs": [],
   "execution_count": 24
  },
  {
   "cell_type": "markdown",
   "id": "55b5b9db",
   "metadata": {
    "id": "55b5b9db"
   },
   "source": [
    "You can make sure that the implementations are correct by running the following:"
   ]
  },
  {
   "cell_type": "code",
   "id": "0e850132",
   "metadata": {
    "colab": {
     "base_uri": "https://localhost:8080/"
    },
    "id": "0e850132",
    "outputId": "829314a3-110c-4dcd-ca20-b1453e3efdc1",
    "ExecuteTime": {
     "end_time": "2025-03-31T10:34:35.432567Z",
     "start_time": "2025-03-31T10:34:35.426688Z"
    }
   },
   "source": [
    "np.random.seed(231)\n",
    "num_inputs = 50\n",
    "x = np.random.randn(num_inputs)\n",
    "y = np.random.randn(num_inputs)\n",
    "\n",
    "dx_num = eval_numerical_gradient(lambda x: mse_loss(x, y)[0], x, verbose=False)\n",
    "loss, dx = mse_loss(x, y)\n",
    "\n",
    "# Test mse_loss function. Loss should be close to 1.9 and dx error should be around e-9\n",
    "print('\\nTesting mse_loss:')\n",
    "print('loss: ', loss)\n",
    "print('dx error: ', rel_error(dx_num, dx))"
   ],
   "outputs": [
    {
     "name": "stdout",
     "output_type": "stream",
     "text": [
      "\n",
      "Testing mse_loss:\n",
      "loss:  1.8672282748726519\n",
      "dx error:  2.8607953262121067e-09\n"
     ]
    }
   ],
   "execution_count": 25
  },
  {
   "cell_type": "markdown",
   "id": "71a7bb75",
   "metadata": {
    "id": "71a7bb75"
   },
   "source": [
    "# Multi-Layer Fully Connected Network\n",
    "In this part, you will implement a fully connected network with an arbitrary number of hidden layers."
   ]
  },
  {
   "cell_type": "code",
   "id": "ffd460d2",
   "metadata": {
    "id": "ffd460d2",
    "ExecuteTime": {
     "end_time": "2025-03-31T10:34:39.708486Z",
     "start_time": "2025-03-31T10:34:39.690380Z"
    }
   },
   "source": [
    "class FullyConnectedNet(object):\n",
    "    \"\"\"Class for a multi-layer fully connected neural network.\n",
    "\n",
    "    Network contains an arbitrary number of hidden layers, ReLU nonlinearities,\n",
    "    and a softmax loss function for a classification problem or the MSE loss function for\n",
    "    a regression problem. This will also implement batch normalization as an option.\n",
    "    For a network with L layers, the architecture will be\n",
    "\n",
    "    {affine - [batchnorm] - relu} x (L - 1) - affine - softmax/mse\n",
    "\n",
    "    where batch normalization is optional in each layer and the {...} block is\n",
    "    repeated L - 1 times.\n",
    "\n",
    "    Learnable parameters are stored in the self.params dictionary and will be learned\n",
    "    using the Solver class.\n",
    "    \"\"\"\n",
    "\n",
    "    def __init__(\n",
    "        self,\n",
    "        category,\n",
    "        hidden_dims,\n",
    "        normalization,\n",
    "        input_dim=784,\n",
    "        output_dim=10,\n",
    "        reg=0.0,\n",
    "        weight_scale=1e-2,\n",
    "        dtype=np.float32,\n",
    "    ):\n",
    "        \"\"\"Initialize a new FullyConnectedNet.\n",
    "\n",
    "        Inputs:\n",
    "        - category: The type of the problem. Valid values are \"classification\",\n",
    "            \"regression\".\n",
    "        - hidden_dims: A list of integers giving the size of each hidden layer.\n",
    "        - normalization: A list of booleans which shows that we have batch\n",
    "            normalization after the affine layer.\n",
    "        - input_dim: An integer giving the size of the input.\n",
    "        - output_dim: An integer giving the number of classes to classify. It\n",
    "            is 1 for a regression problem.\n",
    "        - reg: Scalar giving L2 regularization strength.\n",
    "        - weight_scale: Scalar giving the standard deviation for random\n",
    "            initialization of the weights.\n",
    "        - dtype: A numpy datatype object; all computations will be performed using\n",
    "            this datatype. float32 is faster but less accurate, so you should use\n",
    "            float64 for numeric gradient checking.\n",
    "        \"\"\"\n",
    "        self.category = category\n",
    "        self.normalization = normalization\n",
    "        self.reg = reg\n",
    "        self.num_layers = 1 + len(hidden_dims)\n",
    "        self.dtype = dtype\n",
    "        self.params = {}\n",
    "\n",
    "        ############################################################################\n",
    "        # TODO: Initialize the parameters of the network, storing all values in    #\n",
    "        # the self.params dictionary. Store weights and biases for the first layer #\n",
    "        # in W1 and b1; for the second layer use W2 and b2, etc. Weights should be #\n",
    "        # initialized from a normal distribution centered at 0 with standard       #\n",
    "        # deviation equal to weight_scale. Biases should be initialized to zero.   #\n",
    "        #                                                                          #\n",
    "        # When using batch normalization, store scale and shift parameters for the #\n",
    "        # first layer in gamma1 and beta1; for the second layer use gamma2 and     #\n",
    "        # beta2, etc. Scale parameters should be initialized to ones and shift     #\n",
    "        # parameters should be initialized to zeros.                               #\n",
    "        ############################################################################\n",
    "        # *****START OF YOUR CODE (DO NOT DELETE/MODIFY THIS LINE)*****            #\n",
    "        \n",
    "        self.params[\"W1\"] = np.random.normal(0, weight_scale, (input_dim, hidden_dims[0]))\n",
    "        self.params[\"b1\"] = np.zeros(hidden_dims[0])\n",
    "        \n",
    "        for i in range(2, self.num_layers):\n",
    "            self.params[\"W\" + str(i)] = np.random.normal(0, weight_scale, (hidden_dims[i-2], hidden_dims[i-1]))\n",
    "            self.params[\"b\" + str(i)] = np.zeros(hidden_dims[i-1])\n",
    "            \n",
    "        self.params[\"W\" + str(self.num_layers)] = np.random.normal(0, weight_scale, (hidden_dims[-1], output_dim))\n",
    "        self.params[\"b\" + str(self.num_layers)] = np.zeros(output_dim)\n",
    "        \n",
    "        for i in range(1, self.num_layers):\n",
    "            if normalization[i-1]:\n",
    "                self.params[\"gamma\"+str(i)] = np.ones(hidden_dims[i-1])\n",
    "                self.params[\"beta\" + str(i)] = np.zeros(hidden_dims[i-1])\n",
    "            \n",
    "        \n",
    "        # *****END OF YOUR CODE (DO NOT DELETE/MODIFY THIS LINE)*****\n",
    "        ############################################################################\n",
    "        #                             END OF YOUR CODE                             #\n",
    "        ############################################################################\n",
    "\n",
    "        # With batch normalization we need to keep track of running means and\n",
    "        # variances, so we need to pass a special bn_param object to each batch\n",
    "        # normalization layer. You should pass self.bn_params[0] to the forward pass\n",
    "        # of the first batch normalization layer, self.bn_params[1] to the forward\n",
    "        # pass of the second batch normalization layer, etc.\n",
    "        self.bn_params = [{\"mode\": \"train\"} for i in range(self.num_layers - 1)]\n",
    "\n",
    "        # Cast all parameters to the correct datatype.\n",
    "        for k, v in self.params.items():\n",
    "            self.params[k] = v.astype(dtype)\n",
    "\n",
    "    def loss(self, X, y=None):\n",
    "        \"\"\"Compute loss and gradient for the fully connected net.\n",
    "\n",
    "        Inputs:\n",
    "        - X: Array of input data of shape (N, d_1, ..., d_k)\n",
    "        - y: Array of labels / target values, of shape (N,). y[i] gives the\n",
    "            label / target value for X[i].\n",
    "\n",
    "        Returns:\n",
    "        If y is None, then run a test-time forward pass of the model and return\n",
    "        scores for a classification problem or the predicted_values for\n",
    "        a regression problem:\n",
    "        - out: Array of shape (N, C) / (N, ) giving classification scores / predicted values, where\n",
    "        scores[i, c] is the classification score for X[i] and class c / predicted_values[i]\n",
    "        is the predicted value for X[i].\n",
    "\n",
    "\n",
    "        If y is not None, then run a training-time forward and backward pass and\n",
    "        return a tuple of:\n",
    "        - loss: Scalar value giving the loss\n",
    "        - grads: Dictionary with the same keys as self.params, mapping parameter\n",
    "            names to gradients of the loss with respect to those parameters.\n",
    "        \"\"\"\n",
    "        X = X.astype(self.dtype)\n",
    "        mode = \"test\" if y is None else \"train\"\n",
    "\n",
    "        # Set train/test mode for batchnorm params since they\n",
    "        # behave differently during training and testing.\n",
    "        for bn_param in self.bn_params:\n",
    "            bn_param[\"mode\"] = mode\n",
    "        ############################################################################\n",
    "        # TODO: Implement the forward pass for the fully connected net, computing  #\n",
    "        # the class scores / target values for X and storing them in the out       #\n",
    "        #  variable.                                                               #\n",
    "        #                                                                          #\n",
    "        # When using batch normalization, you'll need to pass self.bn_params[0] to #\n",
    "        # the forward pass for the first batch normalization layer, pass           #\n",
    "        # self.bn_params[1] to the forward pass for the second batch normalization #\n",
    "        # layer, etc.                                                              #\n",
    "        ############################################################################\n",
    "        # *****START OF YOUR CODE (DO NOT DELETE/MODIFY THIS LINE)*****\n",
    "        \n",
    "        stored_caches = []\n",
    "        for i in range(1, self.num_layers):\n",
    "            \n",
    "            # affine forward\n",
    "            w = self.params[\"W\"+str(i)]\n",
    "            b = self.params[\"b\"+str(i)]\n",
    "            out, cache = affine_forward(X, w, b)\n",
    "            layer_cache = {'affine': cache}\n",
    "            \n",
    "            \n",
    "            # batch normalization\n",
    "            if self.normalization[i-1]:\n",
    "                gamma = self.params[\"gamma\"+str(i)]\n",
    "                beta = self.params[\"beta\"+str(i)]\n",
    "                out, cache = batchnorm_forward(out, gamma, beta, self.bn_params[i-1])\n",
    "                layer_cache['batchnorm'] = cache\n",
    "            \n",
    "            # relu forward\n",
    "            out, cache = relu_forward(out)\n",
    "            layer_cache['relu'] = cache\n",
    "            \n",
    "            stored_caches.append(layer_cache)\n",
    "            X = out\n",
    "            \n",
    "        # affine forward\n",
    "        w = self.params[\"W\" + str(self.num_layers)]\n",
    "        b = self.params[\"b\" + str(self.num_layers)]\n",
    "        out, cache = affine_forward(X, w, b)\n",
    "        stored_caches.append({'affine': cache})\n",
    "    \n",
    "        # *****END OF YOUR CODE (DO NOT DELETE/MODIFY THIS LINE)*****              \n",
    "        ############################################################################\n",
    "        #                             END OF YOUR CODE                             #\n",
    "        ############################################################################\n",
    "\n",
    "        # If test mode return early.\n",
    "        if mode == \"test\":\n",
    "            return out\n",
    "            # S\n",
    "        loss, grads = 0.0, {}\n",
    "        ############################################################################\n",
    "        # TODO: Implement the backward pass for the fully connected net. Store the #\n",
    "        # loss in the loss variable and gradients in the grads dictionary. Compute #\n",
    "        # data loss using softmax/mse, and make sure that grads[k] holds the       #\n",
    "        # gradients for self.params[k]. Don't forget to add L2 regularization!     #\n",
    "        #                                                                          #\n",
    "        # When using batch normalization, you don't need to regularize the scale   #\n",
    "        # and shift parameters.                                                    #\n",
    "        #                                                                          #\n",
    "        # NOTE: To ensure that your implementation matches ours and you pass the   #\n",
    "        # automated tests, make sure that your L2 regularization includes a factor #\n",
    "        # of 0.5 to simplify the expression for the gradient.                      #\n",
    "        ############################################################################\n",
    "        # *****START OF YOUR CODE (DO NOT DELETE/MODIFY THIS LINE)*****\n",
    "        \n",
    "        # output layer (softmax/mse)\n",
    "        if self.category == \"classification\":\n",
    "            loss, dx = softmax_loss(out, y)\n",
    "        else:\n",
    "            loss, dx = mse_loss(out, y)\n",
    "            \n",
    "        for i in range(1, self.num_layers + 1):\n",
    "            loss += 0.5 * self.reg * np.sum(self.params[\"W\" + str(i)] ** 2)\n",
    "            \n",
    "        # affine backward\n",
    "        dx, dw, db = affine_backward(dx, stored_caches[-1]['affine'])\n",
    "        grads[\"W\" + str(self.num_layers)] = dw + self.reg * self.params[\"W\" + str(self.num_layers)]\n",
    "        grads[\"b\" + str(self.num_layers)] = db\n",
    "        \n",
    "        for i in range(self.num_layers - 1, 0, -1):\n",
    "            \n",
    "            # relu backward\n",
    "            dx = relu_backward(dx, stored_caches[i-1]['relu'])\n",
    "            \n",
    "            # batchnorm backward\n",
    "            if self.normalization[i-1]:\n",
    "                dx, dgamma, dbeta = batchnorm_backward(dx, stored_caches[i-1]['batchnorm'])\n",
    "                grads['gamma' + str(i)] = dgamma\n",
    "                grads['beta' + str(i)] = dbeta\n",
    "            \n",
    "            # affine backward\n",
    "            dx, dw, db = affine_backward(dx, stored_caches[i-1]['affine'])\n",
    "            grads['W'+str(i)] = dw + self.reg * self.params[\"W\" + str(i)]\n",
    "            grads['b'+str(i)] = db\n",
    "            \n",
    "            \n",
    "        # *****END OF YOUR CODE (DO NOT DELETE/MODIFY THIS LINE)*****\n",
    "        ############################################################################\n",
    "        #                             END OF YOUR CODE                             #\n",
    "        ############################################################################\n",
    "\n",
    "        return loss, grads"
   ],
   "outputs": [],
   "execution_count": 26
  },
  {
   "cell_type": "markdown",
   "id": "a14a2795",
   "metadata": {
    "id": "a14a2795"
   },
   "source": [
    "## Initial Loss and Gradient Check\n",
    "\n",
    "As a sanity check, run the following to check the initial loss and to gradient check the network both with and without regularization. This is a good way to see if the initial losses seem reasonable.\n",
    "\n",
    "For gradient checking, you should expect to see errors around 1e-7 or less."
   ]
  },
  {
   "cell_type": "code",
   "id": "cf719033",
   "metadata": {
    "colab": {
     "base_uri": "https://localhost:8080/"
    },
    "id": "cf719033",
    "outputId": "c3f0b897-b118-40c8-a03b-fd6972087007",
    "ExecuteTime": {
     "end_time": "2025-03-31T10:34:41.328073Z",
     "start_time": "2025-03-31T10:34:40.751653Z"
    }
   },
   "source": [
    "np.random.seed(231)\n",
    "N, D, H1, H2, C = 2, 15, 20, 30, 10\n",
    "X = np.random.randn(N, D)\n",
    "y = np.random.randint(C, size=(N,))\n",
    "\n",
    "for reg in [0, 3.14]:\n",
    "    print(\"Running check with reg = \", reg)\n",
    "    model = FullyConnectedNet(\n",
    "        \"classification\",\n",
    "        [H1, H2],\n",
    "        [False, False],\n",
    "        input_dim=D,\n",
    "        output_dim=C,\n",
    "        reg=reg,\n",
    "        weight_scale=5e-2,\n",
    "        dtype=np.float64\n",
    "    )\n",
    "\n",
    "    loss, grads = model.loss(X, y)\n",
    "    print(\"Initial loss: \", loss)\n",
    "\n",
    "    # Most of the errors should be on the order of e-7 or smaller.\n",
    "    # NOTE: It is fine however to see an error for W2 on the order of e-5\n",
    "    # for the check when reg = 0.0\n",
    "    for name in sorted(grads):\n",
    "        f = lambda _: model.loss(X, y)[0]\n",
    "        grad_num = eval_numerical_gradient(f, model.params[name], verbose=False, h=1e-5)\n",
    "        print(f\"{name} relative error: {rel_error(grad_num, grads[name])}\")"
   ],
   "outputs": [
    {
     "name": "stdout",
     "output_type": "stream",
     "text": [
      "Running check with reg =  0\n",
      "Initial loss:  2.3004790897684924\n",
      "W1 relative error: 7.696803870986541e-08\n",
      "W2 relative error: 1.7087519140575808e-05\n",
      "W3 relative error: 2.9508423118300657e-07\n",
      "b1 relative error: 4.660094650186831e-09\n",
      "b2 relative error: 2.085654124402131e-09\n",
      "b3 relative error: 6.598642296022133e-11\n",
      "Running check with reg =  3.14\n",
      "Initial loss:  7.052114776533016\n",
      "W1 relative error: 3.904542008453064e-09\n",
      "W2 relative error: 6.86942277940646e-08\n",
      "W3 relative error: 2.1311298702113723e-08\n",
      "b1 relative error: 1.1683196894962977e-08\n",
      "b2 relative error: 1.7223751746766738e-09\n",
      "b3 relative error: 1.3200479211447775e-10\n"
     ]
    }
   ],
   "execution_count": 27
  },
  {
   "cell_type": "code",
   "id": "0bc48caf",
   "metadata": {
    "colab": {
     "base_uri": "https://localhost:8080/"
    },
    "id": "0bc48caf",
    "outputId": "cac380be-d2eb-4a66-e479-c9fe68e057f8",
    "ExecuteTime": {
     "end_time": "2025-03-31T10:34:44.883412Z",
     "start_time": "2025-03-31T10:34:43.445991Z"
    }
   },
   "source": [
    "np.random.seed(231)\n",
    "N, D, H1, H2, C = 2, 15, 20, 30, 10\n",
    "X = np.random.randn(N, D)\n",
    "y = np.random.randint(C, size=(N,))\n",
    "\n",
    "# You should expect losses between 1e-4~1e-10 for W,\n",
    "# losses between 1e-08~1e-10 for b,\n",
    "# and losses between 1e-08~1e-09 for beta and gammas.\n",
    "for reg in [0, 3.14]:\n",
    "    print('Running check with reg = ', reg)\n",
    "    model = FullyConnectedNet(\n",
    "        \"classification\",\n",
    "        [H1, H2],\n",
    "        [True, True],\n",
    "        input_dim=D,\n",
    "        output_dim=C,\n",
    "        reg=reg,\n",
    "        weight_scale=5e-2,\n",
    "        dtype=np.float64\n",
    "    )\n",
    "\n",
    "    loss, grads = model.loss(X, y)\n",
    "    print('Initial loss: ', loss)\n",
    "\n",
    "    for name in sorted(grads):\n",
    "        f = lambda _: model.loss(X, y)[0]\n",
    "        grad_num = eval_numerical_gradient(f, model.params[name], verbose=False, h=1e-5)\n",
    "        print('%s relative error: %.2e' % (name, rel_error(grad_num, grads[name])))\n",
    "    if reg == 0: print()"
   ],
   "outputs": [
    {
     "name": "stdout",
     "output_type": "stream",
     "text": [
      "Running check with reg =  0\n",
      "Initial loss:  2.2611955101340957\n",
      "W1 relative error: 1.10e-04\n",
      "W2 relative error: 2.84e-06\n",
      "W3 relative error: 3.02e-10\n",
      "b1 relative error: 3.11e-07\n",
      "b2 relative error: 2.72e-07\n",
      "b3 relative error: 1.01e-10\n",
      "beta1 relative error: 7.33e-09\n",
      "beta2 relative error: 1.89e-09\n",
      "gamma1 relative error: 7.47e-09\n",
      "gamma2 relative error: 2.41e-09\n",
      "\n",
      "Running check with reg =  3.14\n",
      "Initial loss:  6.996533220108303\n",
      "W1 relative error: 1.98e-06\n",
      "W2 relative error: 2.28e-06\n",
      "W3 relative error: 1.11e-08\n",
      "b1 relative error: 1.38e-08\n",
      "b2 relative error: 7.99e-07\n",
      "b3 relative error: 1.73e-10\n",
      "beta1 relative error: 6.32e-09\n",
      "beta2 relative error: 3.48e-09\n",
      "gamma1 relative error: 5.94e-09\n",
      "gamma2 relative error: 5.28e-09\n"
     ]
    }
   ],
   "execution_count": 28
  },
  {
   "cell_type": "markdown",
   "id": "6042ddcf",
   "metadata": {
    "id": "6042ddcf"
   },
   "source": [
    "## SGD+Momentum\n",
    "Stochastic gradient descent with momentum is a widely used update rule that tends to make deep networks converge faster than vanilla stochastic gradient descent.\n",
    "\n",
    "Implement the SGD+momentum update rule in the function `sgd_momentum`."
   ]
  },
  {
   "cell_type": "code",
   "id": "2e678506",
   "metadata": {
    "id": "2e678506",
    "ExecuteTime": {
     "end_time": "2025-03-31T10:34:46.273163Z",
     "start_time": "2025-03-31T10:34:46.268104Z"
    }
   },
   "source": [
    "def sgd_momentum(w, dw, config=None):\n",
    "    \"\"\"\n",
    "    Performs stochastic gradient descent with momentum.\n",
    "    Inputs:\n",
    "    - w: A numpy array giving the current weights.\n",
    "    - dw: A numpy array of the same shape as w giving the gradient of the\n",
    "    loss with respect to w.\n",
    "    - config: A dictionary containing hyperparameter values such as learning\n",
    "    rate, momentum.\n",
    "\n",
    "    Returns:\n",
    "      - next_w: The next point after the update.\n",
    "      - config: The config dictionary to be passed to the next iteration of the\n",
    "        update rule.\n",
    "\n",
    "    config format:\n",
    "    - learning_rate: Scalar learning rate.\n",
    "    - momentum: Scalar between 0 and 1 giving the momentum value.\n",
    "      Setting momentum = 0 reduces sgd_momentum to stochastic gradient descent.\n",
    "    - velocity: A numpy array of the same shape as w and dw used to store a\n",
    "      moving average of the gradients.\n",
    "    \"\"\"\n",
    "    if config is None:\n",
    "        config = {}\n",
    "    config.setdefault(\"learning_rate\", 1e-2)\n",
    "    config.setdefault(\"momentum\", 0.9)\n",
    "    v = config.get(\"velocity\", np.zeros_like(w))\n",
    "\n",
    "    next_w = None\n",
    "    ###########################################################################\n",
    "    # TODO: Implement the momentum update formula. Store the updated value in #\n",
    "    # the next_w variable. You should also use and update the velocity v.     #\n",
    "    ###########################################################################\n",
    "    # *****START OF YOUR CODE (DO NOT DELETE/MODIFY THIS LINE)*****\n",
    "\n",
    "    learning_rate = config['learning_rate']\n",
    "    momentum = config['momentum']\n",
    "    \n",
    "    v = momentum * v - learning_rate * dw\n",
    "    next_w = w + v\n",
    "\n",
    "    # *****END OF YOUR CODE (DO NOT DELETE/MODIFY THIS LINE)*****\n",
    "    ###########################################################################\n",
    "    #                             END OF YOUR CODE                            #\n",
    "    ###########################################################################\n",
    "    config[\"velocity\"] = v\n",
    "\n",
    "    return next_w, config"
   ],
   "outputs": [],
   "execution_count": 29
  },
  {
   "cell_type": "markdown",
   "id": "f1730d10",
   "metadata": {
    "id": "f1730d10"
   },
   "source": [
    "Run the following to check your implementation. You should see errors less than e-8."
   ]
  },
  {
   "cell_type": "code",
   "id": "3595fc5b",
   "metadata": {
    "colab": {
     "base_uri": "https://localhost:8080/"
    },
    "id": "3595fc5b",
    "outputId": "4152e3b8-2570-45fa-c76c-3a744443bf7b",
    "ExecuteTime": {
     "end_time": "2025-03-31T10:34:47.185891Z",
     "start_time": "2025-03-31T10:34:47.179517Z"
    }
   },
   "source": [
    "N, D = 4, 5\n",
    "w = np.linspace(-0.4, 0.6, num=N*D).reshape(N, D)\n",
    "dw = np.linspace(-0.6, 0.4, num=N*D).reshape(N, D)\n",
    "v = np.linspace(0.6, 0.9, num=N*D).reshape(N, D)\n",
    "\n",
    "config = {\"learning_rate\": 1e-3, \"velocity\": v}\n",
    "next_w, _ = sgd_momentum(w, dw, config=config)\n",
    "\n",
    "expected_next_w = np.asarray([\n",
    "  [ 0.1406,      0.20738947,  0.27417895,  0.34096842,  0.40775789],\n",
    "  [ 0.47454737,  0.54133684,  0.60812632,  0.67491579,  0.74170526],\n",
    "  [ 0.80849474,  0.87528421,  0.94207368,  1.00886316,  1.07565263],\n",
    "  [ 1.14244211,  1.20923158,  1.27602105,  1.34281053,  1.4096    ]])\n",
    "expected_velocity = np.asarray([\n",
    "  [ 0.5406,      0.55475789,  0.56891579, 0.58307368,  0.59723158],\n",
    "  [ 0.61138947,  0.62554737,  0.63970526,  0.65386316,  0.66802105],\n",
    "  [ 0.68217895,  0.69633684,  0.71049474,  0.72465263,  0.73881053],\n",
    "  [ 0.75296842,  0.76712632,  0.78128421,  0.79544211,  0.8096    ]])\n",
    "\n",
    "# Should see relative errors around e-8 or less\n",
    "print(\"next_w error: \", rel_error(next_w, expected_next_w))\n",
    "print(\"velocity error: \", rel_error(expected_velocity, config[\"velocity\"]))"
   ],
   "outputs": [
    {
     "name": "stdout",
     "output_type": "stream",
     "text": [
      "next_w error:  8.882347033505819e-09\n",
      "velocity error:  4.269287743278663e-09\n"
     ]
    }
   ],
   "execution_count": 30
  },
  {
   "cell_type": "markdown",
   "id": "cc30c93e",
   "metadata": {
    "id": "cc30c93e"
   },
   "source": [
    "# MNIST\n",
    "MNIST is a widely used dataset of handwritten digits that contains 60,000 handwritten digits for training a machine learning model and 10,000 handwritten digits for testing the model."
   ]
  },
  {
   "cell_type": "code",
   "id": "e3fa8400",
   "metadata": {
    "colab": {
     "base_uri": "https://localhost:8080/"
    },
    "id": "e3fa8400",
    "outputId": "b48d3985-730e-48fc-8d11-7b8a4ea40aa4",
    "ExecuteTime": {
     "end_time": "2025-03-31T10:36:48.699967Z",
     "start_time": "2025-03-31T10:36:39.791709Z"
    }
   },
   "source": [
    "X_train, y_train, X_val, y_val, X_test, y_test = get_MNIST_data()\n",
    "print('Train data shape: ', X_train.shape)\n",
    "print('Train labels shape: ', y_train.shape)\n",
    "print('Validation data shape: ', X_val.shape)\n",
    "print('Validation labels shape: ', y_val.shape)\n",
    "print('Test data shape: ', X_test.shape)\n",
    "print('Test labels shape: ', y_test.shape)"
   ],
   "outputs": [
    {
     "name": "stdout",
     "output_type": "stream",
     "text": [
      "Train data shape:  (54000, 784)\n",
      "Train labels shape:  (54000,)\n",
      "Validation data shape:  (6000, 784)\n",
      "Validation labels shape:  (6000,)\n",
      "Test data shape:  (10000, 784)\n",
      "Test labels shape:  (10000,)\n"
     ]
    }
   ],
   "execution_count": 47
  },
  {
   "cell_type": "code",
   "id": "1e15a728",
   "metadata": {
    "colab": {
     "base_uri": "https://localhost:8080/",
     "height": 665
    },
    "id": "1e15a728",
    "outputId": "9fbc806a-bcfe-4970-ac8f-9483c0e39fb2",
    "ExecuteTime": {
     "end_time": "2025-03-31T10:36:51.738893Z",
     "start_time": "2025-03-31T10:36:50.381687Z"
    }
   },
   "source": [
    "# Visualize some examples from the dataset.\n",
    "# We show a few examples of training images from each class.\n",
    "classes = list(range(10))\n",
    "num_classes = len(classes)\n",
    "samples_per_class = 7\n",
    "for y, cls in enumerate(classes):\n",
    "    idxs = np.flatnonzero(y_train == y)\n",
    "    idxs = np.random.choice(idxs, samples_per_class, replace=False)\n",
    "    for i, idx in enumerate(idxs):\n",
    "        plt_idx = i * num_classes + y + 1\n",
    "        plt.subplot(samples_per_class, num_classes, plt_idx)\n",
    "        plt.imshow(X_train[idx].reshape((28, 28)))\n",
    "        plt.axis('off')\n",
    "        if i == 0:\n",
    "            plt.title(cls)\n",
    "plt.show()"
   ],
   "outputs": [
    {
     "data": {
      "text/plain": [
       "<Figure size 1000x800 with 70 Axes>"
      ],
      "image/png": "[encoded data removed]"
     },
     "metadata": {},
     "output_type": "display_data"
    }
   ],
   "execution_count": 48
  },
  {
   "cell_type": "markdown",
   "id": "ca6ad76a",
   "metadata": {
    "id": "ca6ad76a"
   },
   "source": [
    "Data normalization is an important step which ensures that each input parameter has a similar data distribution. This makes convergence faster while training the network."
   ]
  },
  {
   "cell_type": "code",
   "id": "ea87dfbb",
   "metadata": {
    "id": "ea87dfbb",
    "ExecuteTime": {
     "end_time": "2025-03-31T10:36:53.821647Z",
     "start_time": "2025-03-31T10:36:53.566118Z"
    }
   },
   "source": [
    "X_train, X_val, X_test = get_normalized_data(X_train, X_val, X_test)"
   ],
   "outputs": [],
   "execution_count": 49
  },
  {
   "cell_type": "markdown",
   "id": "3ed0af35",
   "metadata": {
    "id": "3ed0af35"
   },
   "source": [
    "# Train a Good Model!\n",
    "Open the file `solver.py` and read through it to familiarize yourself with the API. After doing so, use a `Solver` instance to train the best fully connected model that you can on MNIST, storing your best model in the `MNIST_best_model` variable. We require you to get at least 95% accuracy on the validation set using a fully connected network."
   ]
  },
  {
   "cell_type": "code",
   "id": "5d59d748",
   "metadata": {
    "colab": {
     "base_uri": "https://localhost:8080/"
    },
    "id": "5d59d748",
    "outputId": "edc9d570-bf98-47e0-b6da-094c1930d1a1",
    "ExecuteTime": {
     "end_time": "2025-03-31T10:37:13.743951Z",
     "start_time": "2025-03-31T10:36:56.699197Z"
    }
   },
   "source": [
    "################################################################################\n",
    "# TODO: Train the best FullyConnectedNet that you can on MNIST. You might      #\n",
    "# find batch normalization. Store your best model in                           #\n",
    "# the best_model variable.                                                     #\n",
    "################################################################################\n",
    "# *****START OF YOUR CODE (DO NOT DELETE/MODIFY THIS LINE)*****\n",
    "MNIST_best_model = FullyConnectedNet('classification', [128, 128], [True, True])\n",
    "data = {'X_train': X_train, 'X_val': X_val, 'X_test': X_test, 'y_train': y_train, 'y_val': y_val, 'y_test': y_test}\n",
    "\n",
    "MNIST_solver = Solver(MNIST_best_model, data)\n",
    "\n",
    "MNIST_solver.update_rule = sgd_momentum\n",
    "\n",
    "MNIST_solver.train()\n",
    "\n"
   ],
   "outputs": [
    {
     "name": "stdout",
     "output_type": "stream",
     "text": [
      "(Iteration 1 / 5400) loss: 2.308974\n",
      "(Epoch 0 / 10) train acc: 0.164000; val_acc: 0.160500\n",
      "(Iteration 11 / 5400) loss: 1.908937\n",
      "(Iteration 21 / 5400) loss: 0.995024\n",
      "(Iteration 31 / 5400) loss: 0.684472\n",
      "(Iteration 41 / 5400) loss: 0.471505\n",
      "(Iteration 51 / 5400) loss: 0.413157\n",
      "(Iteration 61 / 5400) loss: 0.341919\n",
      "(Iteration 71 / 5400) loss: 0.429484\n",
      "(Iteration 81 / 5400) loss: 0.291128\n",
      "(Iteration 91 / 5400) loss: 0.449215\n",
      "(Iteration 101 / 5400) loss: 0.214242\n",
      "(Iteration 111 / 5400) loss: 0.339382\n",
      "(Iteration 121 / 5400) loss: 0.207736\n",
      "(Iteration 131 / 5400) loss: 0.266631\n",
      "(Iteration 141 / 5400) loss: 0.263648\n",
      "(Iteration 151 / 5400) loss: 0.172455\n",
      "(Iteration 161 / 5400) loss: 0.239257\n",
      "(Iteration 171 / 5400) loss: 0.264664\n",
      "(Iteration 181 / 5400) loss: 0.164592\n",
      "(Iteration 191 / 5400) loss: 0.140996\n",
      "(Iteration 201 / 5400) loss: 0.176867\n",
      "(Iteration 211 / 5400) loss: 0.205117\n",
      "(Iteration 221 / 5400) loss: 0.286142\n",
      "(Iteration 231 / 5400) loss: 0.353644\n",
      "(Iteration 241 / 5400) loss: 0.106259\n",
      "(Iteration 251 / 5400) loss: 0.102736\n",
      "(Iteration 261 / 5400) loss: 0.252734\n",
      "(Iteration 271 / 5400) loss: 0.149841\n",
      "(Iteration 281 / 5400) loss: 0.192224\n",
      "(Iteration 291 / 5400) loss: 0.165183\n",
      "(Iteration 301 / 5400) loss: 0.242191\n",
      "(Iteration 311 / 5400) loss: 0.265838\n",
      "(Iteration 321 / 5400) loss: 0.296087\n",
      "(Iteration 331 / 5400) loss: 0.164258\n",
      "(Iteration 341 / 5400) loss: 0.140771\n",
      "(Iteration 351 / 5400) loss: 0.095408\n",
      "(Iteration 361 / 5400) loss: 0.110585\n",
      "(Iteration 371 / 5400) loss: 0.178799\n",
      "(Iteration 381 / 5400) loss: 0.124335\n",
      "(Iteration 391 / 5400) loss: 0.193462\n",
      "(Iteration 401 / 5400) loss: 0.100258\n",
      "(Iteration 411 / 5400) loss: 0.120925\n",
      "(Iteration 421 / 5400) loss: 0.197001\n",
      "(Iteration 431 / 5400) loss: 0.147737\n",
      "(Iteration 441 / 5400) loss: 0.239879\n",
      "(Iteration 451 / 5400) loss: 0.190332\n",
      "(Iteration 461 / 5400) loss: 0.149956\n",
      "(Iteration 471 / 5400) loss: 0.255244\n",
      "(Iteration 481 / 5400) loss: 0.169988\n",
      "(Iteration 491 / 5400) loss: 0.141599\n",
      "(Iteration 501 / 5400) loss: 0.185121\n",
      "(Iteration 511 / 5400) loss: 0.173833\n",
      "(Iteration 521 / 5400) loss: 0.081312\n",
      "(Iteration 531 / 5400) loss: 0.156629\n",
      "(Epoch 1 / 10) train acc: 0.973000; val_acc: 0.961333\n",
      "(Iteration 541 / 5400) loss: 0.176291\n",
      "(Iteration 551 / 5400) loss: 0.177806\n",
      "(Iteration 561 / 5400) loss: 0.139086\n",
      "(Iteration 571 / 5400) loss: 0.058224\n",
      "(Iteration 581 / 5400) loss: 0.097785\n",
      "(Iteration 591 / 5400) loss: 0.162056\n",
      "(Iteration 601 / 5400) loss: 0.121875\n",
      "(Iteration 611 / 5400) loss: 0.136595\n",
      "(Iteration 621 / 5400) loss: 0.181579\n",
      "(Iteration 631 / 5400) loss: 0.051428\n",
      "(Iteration 641 / 5400) loss: 0.097657\n",
      "(Iteration 651 / 5400) loss: 0.093507\n",
      "(Iteration 661 / 5400) loss: 0.160988\n",
      "(Iteration 671 / 5400) loss: 0.129698\n",
      "(Iteration 681 / 5400) loss: 0.089376\n",
      "(Iteration 691 / 5400) loss: 0.122398\n",
      "(Iteration 701 / 5400) loss: 0.159271\n",
      "(Iteration 711 / 5400) loss: 0.034043\n",
      "(Iteration 721 / 5400) loss: 0.122062\n",
      "(Iteration 731 / 5400) loss: 0.182625\n",
      "(Iteration 741 / 5400) loss: 0.167710\n",
      "(Iteration 751 / 5400) loss: 0.030135\n",
      "(Iteration 761 / 5400) loss: 0.092951\n",
      "(Iteration 771 / 5400) loss: 0.080029\n",
      "(Iteration 781 / 5400) loss: 0.083164\n",
      "(Iteration 791 / 5400) loss: 0.200392\n",
      "(Iteration 801 / 5400) loss: 0.165197\n",
      "(Iteration 811 / 5400) loss: 0.100703\n",
      "(Iteration 821 / 5400) loss: 0.051811\n",
      "(Iteration 831 / 5400) loss: 0.127781\n",
      "(Iteration 841 / 5400) loss: 0.123730\n",
      "(Iteration 851 / 5400) loss: 0.032622\n",
      "(Iteration 861 / 5400) loss: 0.106495\n",
      "(Iteration 871 / 5400) loss: 0.048937\n",
      "(Iteration 881 / 5400) loss: 0.124460\n",
      "(Iteration 891 / 5400) loss: 0.090149\n",
      "(Iteration 901 / 5400) loss: 0.106421\n",
      "(Iteration 911 / 5400) loss: 0.051205\n",
      "(Iteration 921 / 5400) loss: 0.194222\n",
      "(Iteration 931 / 5400) loss: 0.155957\n",
      "(Iteration 941 / 5400) loss: 0.121915\n",
      "(Iteration 951 / 5400) loss: 0.109852\n",
      "(Iteration 961 / 5400) loss: 0.022795\n",
      "(Iteration 971 / 5400) loss: 0.166398\n",
      "(Iteration 981 / 5400) loss: 0.076539\n",
      "(Iteration 991 / 5400) loss: 0.060208\n",
      "(Iteration 1001 / 5400) loss: 0.078484\n",
      "(Iteration 1011 / 5400) loss: 0.103112\n",
      "(Iteration 1021 / 5400) loss: 0.063157\n",
      "(Iteration 1031 / 5400) loss: 0.123696\n",
      "(Iteration 1041 / 5400) loss: 0.203539\n",
      "(Iteration 1051 / 5400) loss: 0.057798\n",
      "(Iteration 1061 / 5400) loss: 0.057414\n",
      "(Iteration 1071 / 5400) loss: 0.048455\n",
      "(Epoch 2 / 10) train acc: 0.982000; val_acc: 0.968000\n",
      "(Iteration 1081 / 5400) loss: 0.052795\n",
      "(Iteration 1091 / 5400) loss: 0.045327\n",
      "(Iteration 1101 / 5400) loss: 0.071402\n",
      "(Iteration 1111 / 5400) loss: 0.132570\n",
      "(Iteration 1121 / 5400) loss: 0.144240\n",
      "(Iteration 1131 / 5400) loss: 0.123767\n",
      "(Iteration 1141 / 5400) loss: 0.057111\n",
      "(Iteration 1151 / 5400) loss: 0.098637\n",
      "(Iteration 1161 / 5400) loss: 0.061704\n",
      "(Iteration 1171 / 5400) loss: 0.142637\n",
      "(Iteration 1181 / 5400) loss: 0.061622\n",
      "(Iteration 1191 / 5400) loss: 0.104705\n",
      "(Iteration 1201 / 5400) loss: 0.059784\n",
      "(Iteration 1211 / 5400) loss: 0.037140\n",
      "(Iteration 1221 / 5400) loss: 0.222031\n",
      "(Iteration 1231 / 5400) loss: 0.042131\n",
      "(Iteration 1241 / 5400) loss: 0.034693\n",
      "(Iteration 1251 / 5400) loss: 0.051365\n",
      "(Iteration 1261 / 5400) loss: 0.069871\n",
      "(Iteration 1271 / 5400) loss: 0.073186\n",
      "(Iteration 1281 / 5400) loss: 0.072033\n",
      "(Iteration 1291 / 5400) loss: 0.075351\n",
      "(Iteration 1301 / 5400) loss: 0.244322\n",
      "(Iteration 1311 / 5400) loss: 0.089938\n",
      "(Iteration 1321 / 5400) loss: 0.135719\n",
      "(Iteration 1331 / 5400) loss: 0.201036\n",
      "(Iteration 1341 / 5400) loss: 0.106858\n",
      "(Iteration 1351 / 5400) loss: 0.073457\n",
      "(Iteration 1361 / 5400) loss: 0.137704\n",
      "(Iteration 1371 / 5400) loss: 0.058683\n",
      "(Iteration 1381 / 5400) loss: 0.120471\n",
      "(Iteration 1391 / 5400) loss: 0.141543\n",
      "(Iteration 1401 / 5400) loss: 0.022828\n",
      "(Iteration 1411 / 5400) loss: 0.027603\n",
      "(Iteration 1421 / 5400) loss: 0.030278\n",
      "(Iteration 1431 / 5400) loss: 0.046935\n",
      "(Iteration 1441 / 5400) loss: 0.019511\n",
      "(Iteration 1451 / 5400) loss: 0.069397\n",
      "(Iteration 1461 / 5400) loss: 0.078899\n",
      "(Iteration 1471 / 5400) loss: 0.099163\n",
      "(Iteration 1481 / 5400) loss: 0.036076\n",
      "(Iteration 1491 / 5400) loss: 0.079653\n",
      "(Iteration 1501 / 5400) loss: 0.092632\n",
      "(Iteration 1511 / 5400) loss: 0.059990\n",
      "(Iteration 1521 / 5400) loss: 0.065123\n",
      "(Iteration 1531 / 5400) loss: 0.121007\n",
      "(Iteration 1541 / 5400) loss: 0.044518\n",
      "(Iteration 1551 / 5400) loss: 0.011399\n",
      "(Iteration 1561 / 5400) loss: 0.067083\n",
      "(Iteration 1571 / 5400) loss: 0.048979\n",
      "(Iteration 1581 / 5400) loss: 0.084235\n",
      "(Iteration 1591 / 5400) loss: 0.033823\n",
      "(Iteration 1601 / 5400) loss: 0.161357\n",
      "(Iteration 1611 / 5400) loss: 0.026171\n",
      "(Epoch 3 / 10) train acc: 0.986000; val_acc: 0.972833\n",
      "(Iteration 1621 / 5400) loss: 0.047277\n",
      "(Iteration 1631 / 5400) loss: 0.080117\n",
      "(Iteration 1641 / 5400) loss: 0.027744\n",
      "(Iteration 1651 / 5400) loss: 0.050983\n",
      "(Iteration 1661 / 5400) loss: 0.121671\n",
      "(Iteration 1671 / 5400) loss: 0.160281\n",
      "(Iteration 1681 / 5400) loss: 0.054828\n",
      "(Iteration 1691 / 5400) loss: 0.112065\n",
      "(Iteration 1701 / 5400) loss: 0.026336\n",
      "(Iteration 1711 / 5400) loss: 0.108228\n",
      "(Iteration 1721 / 5400) loss: 0.071063\n",
      "(Iteration 1731 / 5400) loss: 0.016228\n",
      "(Iteration 1741 / 5400) loss: 0.087737\n",
      "(Iteration 1751 / 5400) loss: 0.052256\n",
      "(Iteration 1761 / 5400) loss: 0.031870\n",
      "(Iteration 1771 / 5400) loss: 0.030985\n",
      "(Iteration 1781 / 5400) loss: 0.058179\n",
      "(Iteration 1791 / 5400) loss: 0.023203\n",
      "(Iteration 1801 / 5400) loss: 0.030115\n",
      "(Iteration 1811 / 5400) loss: 0.027793\n",
      "(Iteration 1821 / 5400) loss: 0.015714\n",
      "(Iteration 1831 / 5400) loss: 0.015135\n",
      "(Iteration 1841 / 5400) loss: 0.034459\n",
      "(Iteration 1851 / 5400) loss: 0.061035\n",
      "(Iteration 1861 / 5400) loss: 0.249364\n",
      "(Iteration 1871 / 5400) loss: 0.083745\n",
      "(Iteration 1881 / 5400) loss: 0.032096\n",
      "(Iteration 1891 / 5400) loss: 0.016072\n",
      "(Iteration 1901 / 5400) loss: 0.030118\n",
      "(Iteration 1911 / 5400) loss: 0.178608\n",
      "(Iteration 1921 / 5400) loss: 0.050910\n",
      "(Iteration 1931 / 5400) loss: 0.071122\n",
      "(Iteration 1941 / 5400) loss: 0.026039\n",
      "(Iteration 1951 / 5400) loss: 0.143809\n",
      "(Iteration 1961 / 5400) loss: 0.093844\n",
      "(Iteration 1971 / 5400) loss: 0.048178\n",
      "(Iteration 1981 / 5400) loss: 0.074652\n",
      "(Iteration 1991 / 5400) loss: 0.058363\n",
      "(Iteration 2001 / 5400) loss: 0.014061\n",
      "(Iteration 2011 / 5400) loss: 0.079922\n",
      "(Iteration 2021 / 5400) loss: 0.026236\n",
      "(Iteration 2031 / 5400) loss: 0.009100\n",
      "(Iteration 2041 / 5400) loss: 0.070066\n",
      "(Iteration 2051 / 5400) loss: 0.064593\n",
      "(Iteration 2061 / 5400) loss: 0.016183\n",
      "(Iteration 2071 / 5400) loss: 0.046999\n",
      "(Iteration 2081 / 5400) loss: 0.074412\n",
      "(Iteration 2091 / 5400) loss: 0.044532\n",
      "(Iteration 2101 / 5400) loss: 0.038886\n",
      "(Iteration 2111 / 5400) loss: 0.016642\n",
      "(Iteration 2121 / 5400) loss: 0.066347\n",
      "(Iteration 2131 / 5400) loss: 0.025862\n",
      "(Iteration 2141 / 5400) loss: 0.051184\n",
      "(Iteration 2151 / 5400) loss: 0.068890\n",
      "(Epoch 4 / 10) train acc: 0.989000; val_acc: 0.974667\n",
      "(Iteration 2161 / 5400) loss: 0.036063\n",
      "(Iteration 2171 / 5400) loss: 0.015844\n",
      "(Iteration 2181 / 5400) loss: 0.022345\n",
      "(Iteration 2191 / 5400) loss: 0.039139\n",
      "(Iteration 2201 / 5400) loss: 0.076293\n",
      "(Iteration 2211 / 5400) loss: 0.057794\n",
      "(Iteration 2221 / 5400) loss: 0.050481\n",
      "(Iteration 2231 / 5400) loss: 0.047486\n",
      "(Iteration 2241 / 5400) loss: 0.124817\n",
      "(Iteration 2251 / 5400) loss: 0.074716\n",
      "(Iteration 2261 / 5400) loss: 0.023650\n",
      "(Iteration 2271 / 5400) loss: 0.047046\n",
      "(Iteration 2281 / 5400) loss: 0.051566\n",
      "(Iteration 2291 / 5400) loss: 0.024282\n",
      "(Iteration 2301 / 5400) loss: 0.049234\n",
      "(Iteration 2311 / 5400) loss: 0.033599\n",
      "(Iteration 2321 / 5400) loss: 0.021876\n",
      "(Iteration 2331 / 5400) loss: 0.139240\n",
      "(Iteration 2341 / 5400) loss: 0.025621\n",
      "(Iteration 2351 / 5400) loss: 0.012964\n",
      "(Iteration 2361 / 5400) loss: 0.133703\n",
      "(Iteration 2371 / 5400) loss: 0.018846\n",
      "(Iteration 2381 / 5400) loss: 0.072209\n",
      "(Iteration 2391 / 5400) loss: 0.012950\n",
      "(Iteration 2401 / 5400) loss: 0.104531\n",
      "(Iteration 2411 / 5400) loss: 0.023048\n",
      "(Iteration 2421 / 5400) loss: 0.034996\n",
      "(Iteration 2431 / 5400) loss: 0.016511\n",
      "(Iteration 2441 / 5400) loss: 0.035675\n",
      "(Iteration 2451 / 5400) loss: 0.047631\n",
      "(Iteration 2461 / 5400) loss: 0.035301\n",
      "(Iteration 2471 / 5400) loss: 0.114231\n",
      "(Iteration 2481 / 5400) loss: 0.027544\n",
      "(Iteration 2491 / 5400) loss: 0.006806\n",
      "(Iteration 2501 / 5400) loss: 0.091445\n",
      "(Iteration 2511 / 5400) loss: 0.091257\n",
      "(Iteration 2521 / 5400) loss: 0.018319\n",
      "(Iteration 2531 / 5400) loss: 0.011265\n",
      "(Iteration 2541 / 5400) loss: 0.085485\n",
      "(Iteration 2551 / 5400) loss: 0.058502\n",
      "(Iteration 2561 / 5400) loss: 0.090071\n",
      "(Iteration 2571 / 5400) loss: 0.028190\n",
      "(Iteration 2581 / 5400) loss: 0.013866\n",
      "(Iteration 2591 / 5400) loss: 0.127414\n",
      "(Iteration 2601 / 5400) loss: 0.103938\n",
      "(Iteration 2611 / 5400) loss: 0.089311\n",
      "(Iteration 2621 / 5400) loss: 0.068793\n",
      "(Iteration 2631 / 5400) loss: 0.041985\n",
      "(Iteration 2641 / 5400) loss: 0.040846\n",
      "(Iteration 2651 / 5400) loss: 0.050098\n",
      "(Iteration 2661 / 5400) loss: 0.018994\n",
      "(Iteration 2671 / 5400) loss: 0.058507\n",
      "(Iteration 2681 / 5400) loss: 0.013062\n",
      "(Iteration 2691 / 5400) loss: 0.052970\n",
      "(Epoch 5 / 10) train acc: 0.990000; val_acc: 0.976667\n",
      "(Iteration 2701 / 5400) loss: 0.088882\n",
      "(Iteration 2711 / 5400) loss: 0.068281\n",
      "(Iteration 2721 / 5400) loss: 0.032463\n",
      "(Iteration 2731 / 5400) loss: 0.054947\n",
      "(Iteration 2741 / 5400) loss: 0.012602\n",
      "(Iteration 2751 / 5400) loss: 0.035919\n",
      "(Iteration 2761 / 5400) loss: 0.023924\n",
      "(Iteration 2771 / 5400) loss: 0.033898\n",
      "(Iteration 2781 / 5400) loss: 0.017173\n",
      "(Iteration 2791 / 5400) loss: 0.071276\n",
      "(Iteration 2801 / 5400) loss: 0.058219\n",
      "(Iteration 2811 / 5400) loss: 0.010274\n",
      "(Iteration 2821 / 5400) loss: 0.009905\n",
      "(Iteration 2831 / 5400) loss: 0.055278\n",
      "(Iteration 2841 / 5400) loss: 0.029921\n",
      "(Iteration 2851 / 5400) loss: 0.041384\n",
      "(Iteration 2861 / 5400) loss: 0.049803\n",
      "(Iteration 2871 / 5400) loss: 0.012176\n",
      "(Iteration 2881 / 5400) loss: 0.039181\n",
      "(Iteration 2891 / 5400) loss: 0.009426\n",
      "(Iteration 2901 / 5400) loss: 0.062814\n",
      "(Iteration 2911 / 5400) loss: 0.014687\n",
      "(Iteration 2921 / 5400) loss: 0.047172\n",
      "(Iteration 2931 / 5400) loss: 0.065735\n",
      "(Iteration 2941 / 5400) loss: 0.125876\n",
      "(Iteration 2951 / 5400) loss: 0.013598\n",
      "(Iteration 2961 / 5400) loss: 0.030620\n",
      "(Iteration 2971 / 5400) loss: 0.039300\n",
      "(Iteration 2981 / 5400) loss: 0.105270\n",
      "(Iteration 2991 / 5400) loss: 0.016797\n",
      "(Iteration 3001 / 5400) loss: 0.039330\n",
      "(Iteration 3011 / 5400) loss: 0.018794\n",
      "(Iteration 3021 / 5400) loss: 0.096584\n",
      "(Iteration 3031 / 5400) loss: 0.039731\n",
      "(Iteration 3041 / 5400) loss: 0.006845\n",
      "(Iteration 3051 / 5400) loss: 0.016365\n",
      "(Iteration 3061 / 5400) loss: 0.031444\n",
      "(Iteration 3071 / 5400) loss: 0.056288\n",
      "(Iteration 3081 / 5400) loss: 0.075559\n",
      "(Iteration 3091 / 5400) loss: 0.025244\n",
      "(Iteration 3101 / 5400) loss: 0.029610\n",
      "(Iteration 3111 / 5400) loss: 0.091973\n",
      "(Iteration 3121 / 5400) loss: 0.037874\n",
      "(Iteration 3131 / 5400) loss: 0.008777\n",
      "(Iteration 3141 / 5400) loss: 0.028597\n",
      "(Iteration 3151 / 5400) loss: 0.022578\n",
      "(Iteration 3161 / 5400) loss: 0.022027\n",
      "(Iteration 3171 / 5400) loss: 0.012616\n",
      "(Iteration 3181 / 5400) loss: 0.018288\n",
      "(Iteration 3191 / 5400) loss: 0.011979\n",
      "(Iteration 3201 / 5400) loss: 0.047704\n",
      "(Iteration 3211 / 5400) loss: 0.017976\n",
      "(Iteration 3221 / 5400) loss: 0.018796\n",
      "(Iteration 3231 / 5400) loss: 0.045181\n",
      "(Epoch 6 / 10) train acc: 0.995000; val_acc: 0.977500\n",
      "(Iteration 3241 / 5400) loss: 0.009062\n",
      "(Iteration 3251 / 5400) loss: 0.066267\n",
      "(Iteration 3261 / 5400) loss: 0.049990\n",
      "(Iteration 3271 / 5400) loss: 0.008451\n",
      "(Iteration 3281 / 5400) loss: 0.034933\n",
      "(Iteration 3291 / 5400) loss: 0.028474\n",
      "(Iteration 3301 / 5400) loss: 0.010398\n",
      "(Iteration 3311 / 5400) loss: 0.011830\n",
      "(Iteration 3321 / 5400) loss: 0.011626\n",
      "(Iteration 3331 / 5400) loss: 0.044413\n",
      "(Iteration 3341 / 5400) loss: 0.038834\n",
      "(Iteration 3351 / 5400) loss: 0.101801\n",
      "(Iteration 3361 / 5400) loss: 0.009315\n",
      "(Iteration 3371 / 5400) loss: 0.036408\n",
      "(Iteration 3381 / 5400) loss: 0.025102\n",
      "(Iteration 3391 / 5400) loss: 0.013366\n",
      "(Iteration 3401 / 5400) loss: 0.021056\n",
      "(Iteration 3411 / 5400) loss: 0.034625\n",
      "(Iteration 3421 / 5400) loss: 0.034028\n",
      "(Iteration 3431 / 5400) loss: 0.055337\n",
      "(Iteration 3441 / 5400) loss: 0.024034\n",
      "(Iteration 3451 / 5400) loss: 0.018403\n",
      "(Iteration 3461 / 5400) loss: 0.194345\n",
      "(Iteration 3471 / 5400) loss: 0.039087\n",
      "(Iteration 3481 / 5400) loss: 0.046392\n",
      "(Iteration 3491 / 5400) loss: 0.021682\n",
      "(Iteration 3501 / 5400) loss: 0.051327\n",
      "(Iteration 3511 / 5400) loss: 0.075929\n",
      "(Iteration 3521 / 5400) loss: 0.041098\n",
      "(Iteration 3531 / 5400) loss: 0.038675\n",
      "(Iteration 3541 / 5400) loss: 0.022334\n",
      "(Iteration 3551 / 5400) loss: 0.029361\n",
      "(Iteration 3561 / 5400) loss: 0.006808\n",
      "(Iteration 3571 / 5400) loss: 0.013969\n",
      "(Iteration 3581 / 5400) loss: 0.036007\n",
      "(Iteration 3591 / 5400) loss: 0.031417\n",
      "(Iteration 3601 / 5400) loss: 0.013546\n",
      "(Iteration 3611 / 5400) loss: 0.009975\n",
      "(Iteration 3621 / 5400) loss: 0.010201\n",
      "(Iteration 3631 / 5400) loss: 0.021675\n",
      "(Iteration 3641 / 5400) loss: 0.022274\n",
      "(Iteration 3651 / 5400) loss: 0.032201\n",
      "(Iteration 3661 / 5400) loss: 0.047369\n",
      "(Iteration 3671 / 5400) loss: 0.016263\n",
      "(Iteration 3681 / 5400) loss: 0.012757\n",
      "(Iteration 3691 / 5400) loss: 0.014490\n",
      "(Iteration 3701 / 5400) loss: 0.009931\n",
      "(Iteration 3711 / 5400) loss: 0.011508\n",
      "(Iteration 3721 / 5400) loss: 0.025234\n",
      "(Iteration 3731 / 5400) loss: 0.026480\n",
      "(Iteration 3741 / 5400) loss: 0.009797\n",
      "(Iteration 3751 / 5400) loss: 0.009125\n",
      "(Iteration 3761 / 5400) loss: 0.020567\n",
      "(Iteration 3771 / 5400) loss: 0.018834\n",
      "(Epoch 7 / 10) train acc: 0.993000; val_acc: 0.975167\n",
      "(Iteration 3781 / 5400) loss: 0.014174\n",
      "(Iteration 3791 / 5400) loss: 0.029757\n",
      "(Iteration 3801 / 5400) loss: 0.004202\n",
      "(Iteration 3811 / 5400) loss: 0.010999\n",
      "(Iteration 3821 / 5400) loss: 0.012412\n",
      "(Iteration 3831 / 5400) loss: 0.004774\n",
      "(Iteration 3841 / 5400) loss: 0.009774\n",
      "(Iteration 3851 / 5400) loss: 0.004351\n",
      "(Iteration 3861 / 5400) loss: 0.045958\n",
      "(Iteration 3871 / 5400) loss: 0.026593\n",
      "(Iteration 3881 / 5400) loss: 0.007818\n",
      "(Iteration 3891 / 5400) loss: 0.055610\n",
      "(Iteration 3901 / 5400) loss: 0.038549\n",
      "(Iteration 3911 / 5400) loss: 0.010146\n",
      "(Iteration 3921 / 5400) loss: 0.032569\n",
      "(Iteration 3931 / 5400) loss: 0.006155\n",
      "(Iteration 3941 / 5400) loss: 0.025163\n",
      "(Iteration 3951 / 5400) loss: 0.036155\n",
      "(Iteration 3961 / 5400) loss: 0.018000\n",
      "(Iteration 3971 / 5400) loss: 0.020258\n",
      "(Iteration 3981 / 5400) loss: 0.007585\n",
      "(Iteration 3991 / 5400) loss: 0.017620\n",
      "(Iteration 4001 / 5400) loss: 0.025922\n",
      "(Iteration 4011 / 5400) loss: 0.012798\n",
      "(Iteration 4021 / 5400) loss: 0.009974\n",
      "(Iteration 4031 / 5400) loss: 0.011894\n",
      "(Iteration 4041 / 5400) loss: 0.008722\n",
      "(Iteration 4051 / 5400) loss: 0.039836\n",
      "(Iteration 4061 / 5400) loss: 0.012287\n",
      "(Iteration 4071 / 5400) loss: 0.017775\n",
      "(Iteration 4081 / 5400) loss: 0.018369\n",
      "(Iteration 4091 / 5400) loss: 0.016485\n",
      "(Iteration 4101 / 5400) loss: 0.002207\n",
      "(Iteration 4111 / 5400) loss: 0.014825\n",
      "(Iteration 4121 / 5400) loss: 0.005101\n",
      "(Iteration 4131 / 5400) loss: 0.017842\n",
      "(Iteration 4141 / 5400) loss: 0.026442\n",
      "(Iteration 4151 / 5400) loss: 0.002415\n",
      "(Iteration 4161 / 5400) loss: 0.014301\n",
      "(Iteration 4171 / 5400) loss: 0.007917\n",
      "(Iteration 4181 / 5400) loss: 0.073168\n",
      "(Iteration 4191 / 5400) loss: 0.095971\n",
      "(Iteration 4201 / 5400) loss: 0.010330\n",
      "(Iteration 4211 / 5400) loss: 0.009742\n",
      "(Iteration 4221 / 5400) loss: 0.037547\n",
      "(Iteration 4231 / 5400) loss: 0.083538\n",
      "(Iteration 4241 / 5400) loss: 0.010306\n",
      "(Iteration 4251 / 5400) loss: 0.027632\n",
      "(Iteration 4261 / 5400) loss: 0.017111\n",
      "(Iteration 4271 / 5400) loss: 0.063270\n",
      "(Iteration 4281 / 5400) loss: 0.040607\n",
      "(Iteration 4291 / 5400) loss: 0.016152\n",
      "(Iteration 4301 / 5400) loss: 0.036833\n",
      "(Iteration 4311 / 5400) loss: 0.011759\n",
      "(Epoch 8 / 10) train acc: 0.997000; val_acc: 0.975833\n",
      "(Iteration 4321 / 5400) loss: 0.015589\n",
      "(Iteration 4331 / 5400) loss: 0.004064\n",
      "(Iteration 4341 / 5400) loss: 0.010494\n",
      "(Iteration 4351 / 5400) loss: 0.025778\n",
      "(Iteration 4361 / 5400) loss: 0.022183\n",
      "(Iteration 4371 / 5400) loss: 0.011277\n",
      "(Iteration 4381 / 5400) loss: 0.036765\n",
      "(Iteration 4391 / 5400) loss: 0.047241\n",
      "(Iteration 4401 / 5400) loss: 0.017889\n",
      "(Iteration 4411 / 5400) loss: 0.028849\n",
      "(Iteration 4421 / 5400) loss: 0.057307\n",
      "(Iteration 4431 / 5400) loss: 0.032684\n",
      "(Iteration 4441 / 5400) loss: 0.007930\n",
      "(Iteration 4451 / 5400) loss: 0.021206\n",
      "(Iteration 4461 / 5400) loss: 0.008117\n",
      "(Iteration 4471 / 5400) loss: 0.030485\n",
      "(Iteration 4481 / 5400) loss: 0.013272\n",
      "(Iteration 4491 / 5400) loss: 0.013335\n",
      "(Iteration 4501 / 5400) loss: 0.006814\n",
      "(Iteration 4511 / 5400) loss: 0.032139\n",
      "(Iteration 4521 / 5400) loss: 0.063696\n",
      "(Iteration 4531 / 5400) loss: 0.006928\n",
      "(Iteration 4541 / 5400) loss: 0.036747\n",
      "(Iteration 4551 / 5400) loss: 0.006842\n",
      "(Iteration 4561 / 5400) loss: 0.039443\n",
      "(Iteration 4571 / 5400) loss: 0.012981\n",
      "(Iteration 4581 / 5400) loss: 0.032928\n",
      "(Iteration 4591 / 5400) loss: 0.047647\n",
      "(Iteration 4601 / 5400) loss: 0.032189\n",
      "(Iteration 4611 / 5400) loss: 0.004387\n",
      "(Iteration 4621 / 5400) loss: 0.030545\n",
      "(Iteration 4631 / 5400) loss: 0.044342\n",
      "(Iteration 4641 / 5400) loss: 0.022617\n",
      "(Iteration 4651 / 5400) loss: 0.008267\n",
      "(Iteration 4661 / 5400) loss: 0.005927\n",
      "(Iteration 4671 / 5400) loss: 0.017591\n",
      "(Iteration 4681 / 5400) loss: 0.050155\n",
      "(Iteration 4691 / 5400) loss: 0.022694\n",
      "(Iteration 4701 / 5400) loss: 0.013566\n",
      "(Iteration 4711 / 5400) loss: 0.014151\n",
      "(Iteration 4721 / 5400) loss: 0.012001\n",
      "(Iteration 4731 / 5400) loss: 0.025893\n",
      "(Iteration 4741 / 5400) loss: 0.021999\n",
      "(Iteration 4751 / 5400) loss: 0.025511\n",
      "(Iteration 4761 / 5400) loss: 0.037570\n",
      "(Iteration 4771 / 5400) loss: 0.039200\n",
      "(Iteration 4781 / 5400) loss: 0.010333\n",
      "(Iteration 4791 / 5400) loss: 0.078794\n",
      "(Iteration 4801 / 5400) loss: 0.018638\n",
      "(Iteration 4811 / 5400) loss: 0.027483\n",
      "(Iteration 4821 / 5400) loss: 0.039549\n",
      "(Iteration 4831 / 5400) loss: 0.008884\n",
      "(Iteration 4841 / 5400) loss: 0.004751\n",
      "(Iteration 4851 / 5400) loss: 0.009417\n",
      "(Epoch 9 / 10) train acc: 0.998000; val_acc: 0.976500\n",
      "(Iteration 4861 / 5400) loss: 0.046432\n",
      "(Iteration 4871 / 5400) loss: 0.012269\n",
      "(Iteration 4881 / 5400) loss: 0.039030\n",
      "(Iteration 4891 / 5400) loss: 0.003561\n",
      "(Iteration 4901 / 5400) loss: 0.006374\n",
      "(Iteration 4911 / 5400) loss: 0.004698\n",
      "(Iteration 4921 / 5400) loss: 0.001584\n",
      "(Iteration 4931 / 5400) loss: 0.032312\n",
      "(Iteration 4941 / 5400) loss: 0.009239\n",
      "(Iteration 4951 / 5400) loss: 0.013145\n",
      "(Iteration 4961 / 5400) loss: 0.006408\n",
      "(Iteration 4971 / 5400) loss: 0.008802\n",
      "(Iteration 4981 / 5400) loss: 0.040018\n",
      "(Iteration 4991 / 5400) loss: 0.004163\n",
      "(Iteration 5001 / 5400) loss: 0.015078\n",
      "(Iteration 5011 / 5400) loss: 0.023230\n",
      "(Iteration 5021 / 5400) loss: 0.022285\n",
      "(Iteration 5031 / 5400) loss: 0.006252\n",
      "(Iteration 5041 / 5400) loss: 0.014641\n",
      "(Iteration 5051 / 5400) loss: 0.023273\n",
      "(Iteration 5061 / 5400) loss: 0.031355\n",
      "(Iteration 5071 / 5400) loss: 0.015555\n",
      "(Iteration 5081 / 5400) loss: 0.027289\n",
      "(Iteration 5091 / 5400) loss: 0.007589\n",
      "(Iteration 5101 / 5400) loss: 0.010918\n",
      "(Iteration 5111 / 5400) loss: 0.009602\n",
      "(Iteration 5121 / 5400) loss: 0.004464\n",
      "(Iteration 5131 / 5400) loss: 0.009585\n",
      "(Iteration 5141 / 5400) loss: 0.184591\n",
      "(Iteration 5151 / 5400) loss: 0.030432\n",
      "(Iteration 5161 / 5400) loss: 0.010467\n",
      "(Iteration 5171 / 5400) loss: 0.009842\n",
      "(Iteration 5181 / 5400) loss: 0.034963\n",
      "(Iteration 5191 / 5400) loss: 0.007422\n",
      "(Iteration 5201 / 5400) loss: 0.002793\n",
      "(Iteration 5211 / 5400) loss: 0.024069\n",
      "(Iteration 5221 / 5400) loss: 0.035268\n",
      "(Iteration 5231 / 5400) loss: 0.002860\n",
      "(Iteration 5241 / 5400) loss: 0.042173\n",
      "(Iteration 5251 / 5400) loss: 0.029730\n",
      "(Iteration 5261 / 5400) loss: 0.121185\n",
      "(Iteration 5271 / 5400) loss: 0.018461\n",
      "(Iteration 5281 / 5400) loss: 0.016506\n",
      "(Iteration 5291 / 5400) loss: 0.005680\n",
      "(Iteration 5301 / 5400) loss: 0.025752\n",
      "(Iteration 5311 / 5400) loss: 0.012315\n",
      "(Iteration 5321 / 5400) loss: 0.013217\n",
      "(Iteration 5331 / 5400) loss: 0.042105\n",
      "(Iteration 5341 / 5400) loss: 0.026108\n",
      "(Iteration 5351 / 5400) loss: 0.037766\n",
      "(Iteration 5361 / 5400) loss: 0.040557\n",
      "(Iteration 5371 / 5400) loss: 0.011486\n",
      "(Iteration 5381 / 5400) loss: 0.048238\n",
      "(Iteration 5391 / 5400) loss: 0.004565\n",
      "(Epoch 10 / 10) train acc: 0.995000; val_acc: 0.979667\n"
     ]
    }
   ],
   "execution_count": 50
  },
  {
   "cell_type": "code",
   "id": "25f8a45b",
   "metadata": {
    "colab": {
     "base_uri": "https://localhost:8080/",
     "height": 1000
    },
    "id": "25f8a45b",
    "outputId": "06f30f63-6167-4451-ccfe-322371060539",
    "ExecuteTime": {
     "end_time": "2025-03-31T10:37:15.667705Z",
     "start_time": "2025-03-31T10:37:15.428398Z"
    }
   },
   "source": [
    "# Run this cell to visualize training loss and train / val accuracy\n",
    "\n",
    "plt.subplot(2, 1, 1)\n",
    "plt.title('Training loss')\n",
    "plt.plot(MNIST_solver.loss_history, 'o')\n",
    "plt.xlabel('Iteration')\n",
    "\n",
    "plt.subplot(2, 1, 2)\n",
    "plt.title('Accuracy')\n",
    "plt.plot(MNIST_solver.train_acc_history, '-o', label='train')\n",
    "plt.plot(MNIST_solver.val_acc_history, '-o', label='val')\n",
    "plt.plot([0.8] * len(MNIST_solver.val_acc_history), 'k--')\n",
    "plt.xlabel('Epoch')\n",
    "plt.legend(loc='lower right')\n",
    "plt.gcf().set_size_inches(15, 12)\n",
    "plt.show()"
   ],
   "outputs": [
    {
     "data": {
      "text/plain": [
       "<Figure size 1500x1200 with 2 Axes>"
      ],
      "image/png": "[encoded data removed]"
     },
     "metadata": {},
     "output_type": "display_data"
    }
   ],
   "execution_count": 51
  },
  {
   "cell_type": "markdown",
   "id": "19ff7e18",
   "metadata": {
    "id": "19ff7e18"
   },
   "source": [
    "# Test Your Model!\n",
    "Run your best model on the validation and test sets. You should achieve at least 95% accuracy on the validation set."
   ]
  },
  {
   "cell_type": "code",
   "id": "3df244fa",
   "metadata": {
    "colab": {
     "base_uri": "https://localhost:8080/"
    },
    "id": "3df244fa",
    "outputId": "1fbfbc5a-95dd-4e44-e19e-8cd2b27a44e5",
    "ExecuteTime": {
     "end_time": "2025-03-31T10:37:17.717159Z",
     "start_time": "2025-03-31T10:37:17.572299Z"
    }
   },
   "source": [
    "y_test_pred = np.argmax(MNIST_best_model.loss(data['X_test']), axis=1)\n",
    "y_val_pred = np.argmax(MNIST_best_model.loss(data['X_val']), axis=1)\n",
    "print('Validation set accuracy: ', (y_val_pred == data['y_val']).mean())\n",
    "print('Test set accuracy: ', (y_test_pred == data['y_test']).mean())"
   ],
   "outputs": [
    {
     "name": "stdout",
     "output_type": "stream",
     "text": [
      "Validation set accuracy:  0.9796666666666667\n",
      "Test set accuracy:  0.9762\n"
     ]
    }
   ],
   "execution_count": 52
  },
  {
   "cell_type": "markdown",
   "id": "5e9b7aa1",
   "metadata": {
    "id": "5e9b7aa1"
   },
   "source": [
    "# California housing dataset\n",
    "This is a dataset obtained from the [StatLib repository](https://www.dcc.fc.up.pt/~ltorgo/Regression/cal_housing.html). The data pertains to the houses found in a given California district and some summary stats about them based on the 1990 census data."
   ]
  },
  {
   "cell_type": "code",
   "id": "b1ee041f",
   "metadata": {
    "colab": {
     "base_uri": "https://localhost:8080/",
     "height": 206
    },
    "id": "b1ee041f",
    "outputId": "90cb52bb-c7bc-4f20-a1b3-c9edb4ba0404",
    "ExecuteTime": {
     "end_time": "2025-03-31T10:35:37.667727Z",
     "start_time": "2025-03-31T10:35:37.615471Z"
    }
   },
   "source": [
    "california_housing = fetch_california_housing(as_frame=True)\n",
    "california_housing.frame.head()"
   ],
   "outputs": [
    {
     "data": {
      "text/plain": [
       "   MedInc  HouseAge  AveRooms  AveBedrms  Population  AveOccup  Latitude  \\\n",
       "0  8.3252      41.0  6.984127   1.023810       322.0  2.555556     37.88   \n",
       "1  8.3014      21.0  6.238137   0.971880      2401.0  2.109842     37.86   \n",
       "2  7.2574      52.0  8.288136   1.073446       496.0  2.802260     37.85   \n",
       "3  5.6431      52.0  5.817352   1.073059       558.0  2.547945     37.85   \n",
       "4  3.8462      52.0  6.281853   1.081081       565.0  2.181467     37.85   \n",
       "\n",
       "   Longitude  MedHouseVal  \n",
       "0    -122.23        4.526  \n",
       "1    -122.22        3.585  \n",
       "2    -122.24        3.521  \n",
       "3    -122.25        3.413  \n",
       "4    -122.25        3.422  "
      ],
      "text/html": [
       "<div>\n",
       "<style scoped>\n",
       "    .dataframe tbody tr th:only-of-type {\n",
       "        vertical-align: middle;\n",
       "    }\n",
       "\n",
       "    .dataframe tbody tr th {\n",
       "        vertical-align: top;\n",
       "    }\n",
       "\n",
       "    .dataframe thead th {\n",
       "        text-align: right;\n",
       "    }\n",
       "</style>\n",
       "<table border=\"1\" class=\"dataframe\">\n",
       "  <thead>\n",
       "    <tr style=\"text-align: right;\">\n",
       "      <th></th>\n",
       "      <th>MedInc</th>\n",
       "      <th>HouseAge</th>\n",
       "      <th>AveRooms</th>\n",
       "      <th>AveBedrms</th>\n",
       "      <th>Population</th>\n",
       "      <th>AveOccup</th>\n",
       "      <th>Latitude</th>\n",
       "      <th>Longitude</th>\n",
       "      <th>MedHouseVal</th>\n",
       "    </tr>\n",
       "  </thead>\n",
       "  <tbody>\n",
       "    <tr>\n",
       "      <th>0</th>\n",
       "      <td>8.3252</td>\n",
       "      <td>41.0</td>\n",
       "      <td>6.984127</td>\n",
       "      <td>1.023810</td>\n",
       "      <td>322.0</td>\n",
       "      <td>2.555556</td>\n",
       "      <td>37.88</td>\n",
       "      <td>-122.23</td>\n",
       "      <td>4.526</td>\n",
       "    </tr>\n",
       "    <tr>\n",
       "      <th>1</th>\n",
       "      <td>8.3014</td>\n",
       "      <td>21.0</td>\n",
       "      <td>6.238137</td>\n",
       "      <td>0.971880</td>\n",
       "      <td>2401.0</td>\n",
       "      <td>2.109842</td>\n",
       "      <td>37.86</td>\n",
       "      <td>-122.22</td>\n",
       "      <td>3.585</td>\n",
       "    </tr>\n",
       "    <tr>\n",
       "      <th>2</th>\n",
       "      <td>7.2574</td>\n",
       "      <td>52.0</td>\n",
       "      <td>8.288136</td>\n",
       "      <td>1.073446</td>\n",
       "      <td>496.0</td>\n",
       "      <td>2.802260</td>\n",
       "      <td>37.85</td>\n",
       "      <td>-122.24</td>\n",
       "      <td>3.521</td>\n",
       "    </tr>\n",
       "    <tr>\n",
       "      <th>3</th>\n",
       "      <td>5.6431</td>\n",
       "      <td>52.0</td>\n",
       "      <td>5.817352</td>\n",
       "      <td>1.073059</td>\n",
       "      <td>558.0</td>\n",
       "      <td>2.547945</td>\n",
       "      <td>37.85</td>\n",
       "      <td>-122.25</td>\n",
       "      <td>3.413</td>\n",
       "    </tr>\n",
       "    <tr>\n",
       "      <th>4</th>\n",
       "      <td>3.8462</td>\n",
       "      <td>52.0</td>\n",
       "      <td>6.281853</td>\n",
       "      <td>1.081081</td>\n",
       "      <td>565.0</td>\n",
       "      <td>2.181467</td>\n",
       "      <td>37.85</td>\n",
       "      <td>-122.25</td>\n",
       "      <td>3.422</td>\n",
       "    </tr>\n",
       "  </tbody>\n",
       "</table>\n",
       "</div>"
      ]
     },
     "execution_count": 37,
     "metadata": {},
     "output_type": "execute_result"
    }
   ],
   "execution_count": 37
  },
  {
   "cell_type": "code",
   "id": "bbc5ad10",
   "metadata": {
    "colab": {
     "base_uri": "https://localhost:8080/"
    },
    "id": "bbc5ad10",
    "outputId": "c76cfdc4-8a65-4a56-ed97-9a94874d988c",
    "ExecuteTime": {
     "end_time": "2025-03-31T10:35:39.058239Z",
     "start_time": "2025-03-31T10:35:39.029397Z"
    }
   },
   "source": [
    "X_train, y_train, X_val, y_val, X_test, y_test = get_california_housing_data()\n",
    "print('Train data shape: ', X_train.shape)\n",
    "print('Train target values shape: ', y_train.shape)\n",
    "print('Validation data shape: ', X_val.shape)\n",
    "print('Validation target values shape: ', y_val.shape)\n",
    "print('Test data shape: ', X_test.shape)\n",
    "print('Test target values shape: ', y_test.shape)"
   ],
   "outputs": [
    {
     "name": "stdout",
     "output_type": "stream",
     "text": [
      "Train data shape:  (16512, 8)\n",
      "Train target values shape:  (16512,)\n",
      "Validation data shape:  (2064, 8)\n",
      "Validation target values shape:  (2064,)\n",
      "Test data shape:  (2064, 8)\n",
      "Test target values shape:  (2064,)\n"
     ]
    }
   ],
   "execution_count": 38
  },
  {
   "cell_type": "code",
   "id": "30a1eeb3",
   "metadata": {
    "id": "30a1eeb3",
    "ExecuteTime": {
     "end_time": "2025-03-31T10:35:40.258266Z",
     "start_time": "2025-03-31T10:35:40.252187Z"
    }
   },
   "source": [
    "X_train, X_val, X_test = get_normalized_data(X_train, X_val, X_test)"
   ],
   "outputs": [],
   "execution_count": 39
  },
  {
   "cell_type": "markdown",
   "id": "a1179b5c",
   "metadata": {
    "id": "a1179b5c"
   },
   "source": [
    "# Train a Good Model!\n",
    "Train the best fully connected model that you can on california housing, storing your best model in the `california_housing_best_model` variable."
   ]
  },
  {
   "cell_type": "code",
   "id": "2fae7eca",
   "metadata": {
    "colab": {
     "base_uri": "https://localhost:8080/"
    },
    "id": "2fae7eca",
    "outputId": "e72915d0-5efd-48e7-98de-ae48545332ea",
    "ExecuteTime": {
     "end_time": "2025-03-31T10:35:44.513553Z",
     "start_time": "2025-03-31T10:35:41.599959Z"
    }
   },
   "source": [
    "################################################################################\n",
    "# TODO: Train the best FullyConnectedNet that you can on california housing.   #\n",
    "# Store your best model in the best_model variable.                            #\n",
    "################################################################################\n",
    "# *****START OF YOUR CODE (DO NOT DELETE/MODIFY THIS LINE)*****\n",
    "california_housing_best_model = FullyConnectedNet('regression', [128, 128], [True, True], input_dim=8, output_dim=1)\n",
    "\n",
    "y_train = y_train.reshape(-1, 1)\n",
    "y_val = y_val.reshape(-1, 1)\n",
    "y_test = y_test.reshape(-1, 1)\n",
    "\n",
    "data = {'X_train': X_train, 'X_val': X_val, 'X_test': X_test, 'y_train': y_train, 'y_val': y_val, 'y_test': y_test}\n",
    "\n",
    "california_housing_solver = Solver(california_housing_best_model, data)\n",
    "\n",
    "california_housing_solver.update_rule = sgd_momentum\n",
    "\n",
    "california_housing_solver.train()\n",
    "\n"
   ],
   "outputs": [
    {
     "name": "stdout",
     "output_type": "stream",
     "text": [
      "(Iteration 1 / 1650) loss: 6.317015\n",
      "(Epoch 0 / 10) train RMS loss: 12.634071; val RMS loss: 10.495970\n",
      "(Iteration 11 / 1650) loss: 1.291648\n",
      "(Iteration 21 / 1650) loss: 0.992171\n",
      "(Iteration 31 / 1650) loss: 0.721657\n",
      "(Iteration 41 / 1650) loss: 0.633367\n",
      "(Iteration 51 / 1650) loss: 0.611752\n",
      "(Iteration 61 / 1650) loss: 0.533852\n",
      "(Iteration 71 / 1650) loss: 0.575943\n",
      "(Iteration 81 / 1650) loss: 0.695755\n",
      "(Iteration 91 / 1650) loss: 0.523715\n",
      "(Iteration 101 / 1650) loss: 0.628420\n",
      "(Iteration 111 / 1650) loss: 0.635785\n",
      "(Iteration 121 / 1650) loss: 0.459093\n",
      "(Iteration 131 / 1650) loss: 0.368480\n",
      "(Iteration 141 / 1650) loss: 0.490722\n",
      "(Iteration 151 / 1650) loss: 0.485612\n",
      "(Iteration 161 / 1650) loss: 0.660699\n",
      "(Epoch 1 / 10) train RMS loss: 0.671391; val RMS loss: 0.690172\n",
      "(Iteration 171 / 1650) loss: 0.462581\n",
      "(Iteration 181 / 1650) loss: 0.424554\n",
      "(Iteration 191 / 1650) loss: 0.361717\n",
      "(Iteration 201 / 1650) loss: 0.351808\n",
      "(Iteration 211 / 1650) loss: 0.427267\n",
      "(Iteration 221 / 1650) loss: 0.438041\n",
      "(Iteration 231 / 1650) loss: 0.410451\n",
      "(Iteration 241 / 1650) loss: 0.366275\n",
      "(Iteration 251 / 1650) loss: 0.518025\n",
      "(Iteration 261 / 1650) loss: 0.888304\n",
      "(Iteration 271 / 1650) loss: 0.399814\n",
      "(Iteration 281 / 1650) loss: 0.439515\n",
      "(Iteration 291 / 1650) loss: 0.446061\n",
      "(Iteration 301 / 1650) loss: 0.351293\n",
      "(Iteration 311 / 1650) loss: 0.383107\n",
      "(Iteration 321 / 1650) loss: 0.431224\n",
      "(Epoch 2 / 10) train RMS loss: 0.662712; val RMS loss: 0.681425\n",
      "(Iteration 331 / 1650) loss: 0.482334\n",
      "(Iteration 341 / 1650) loss: 0.511598\n",
      "(Iteration 351 / 1650) loss: 0.305219\n",
      "(Iteration 361 / 1650) loss: 0.312256\n",
      "(Iteration 371 / 1650) loss: 0.333473\n",
      "(Iteration 381 / 1650) loss: 0.362401\n",
      "(Iteration 391 / 1650) loss: 0.272434\n",
      "(Iteration 401 / 1650) loss: 0.455704\n",
      "(Iteration 411 / 1650) loss: 0.428685\n",
      "(Iteration 421 / 1650) loss: 0.380522\n",
      "(Iteration 431 / 1650) loss: 0.475077\n",
      "(Iteration 441 / 1650) loss: 0.385711\n",
      "(Iteration 451 / 1650) loss: 0.412438\n",
      "(Iteration 461 / 1650) loss: 0.443369\n",
      "(Iteration 471 / 1650) loss: 0.364676\n",
      "(Iteration 481 / 1650) loss: 0.318641\n",
      "(Iteration 491 / 1650) loss: 0.391805\n",
      "(Epoch 3 / 10) train RMS loss: 0.674698; val RMS loss: 0.677273\n",
      "(Iteration 501 / 1650) loss: 0.467946\n",
      "(Iteration 511 / 1650) loss: 0.445133\n",
      "(Iteration 521 / 1650) loss: 0.504241\n",
      "(Iteration 531 / 1650) loss: 0.348749\n",
      "(Iteration 541 / 1650) loss: 0.444509\n",
      "(Iteration 551 / 1650) loss: 0.373247\n",
      "(Iteration 561 / 1650) loss: 0.533026\n",
      "(Iteration 571 / 1650) loss: 0.445410\n",
      "(Iteration 581 / 1650) loss: 0.522165\n",
      "(Iteration 591 / 1650) loss: 0.275026\n",
      "(Iteration 601 / 1650) loss: 0.321969\n",
      "(Iteration 611 / 1650) loss: 0.392011\n",
      "(Iteration 621 / 1650) loss: 0.339263\n",
      "(Iteration 631 / 1650) loss: 0.473903\n",
      "(Iteration 641 / 1650) loss: 0.450516\n",
      "(Iteration 651 / 1650) loss: 0.344367\n",
      "(Epoch 4 / 10) train RMS loss: 0.601198; val RMS loss: 0.604571\n",
      "(Iteration 661 / 1650) loss: 0.369920\n",
      "(Iteration 671 / 1650) loss: 0.254352\n",
      "(Iteration 681 / 1650) loss: 0.312750\n",
      "(Iteration 691 / 1650) loss: 0.391256\n",
      "(Iteration 701 / 1650) loss: 0.330648\n",
      "(Iteration 711 / 1650) loss: 0.614611\n",
      "(Iteration 721 / 1650) loss: 0.423196\n",
      "(Iteration 731 / 1650) loss: 0.528761\n",
      "(Iteration 741 / 1650) loss: 0.574697\n",
      "(Iteration 751 / 1650) loss: 0.523076\n",
      "(Iteration 761 / 1650) loss: 0.415386\n",
      "(Iteration 771 / 1650) loss: 0.492400\n",
      "(Iteration 781 / 1650) loss: 0.299015\n",
      "(Iteration 791 / 1650) loss: 0.245673\n",
      "(Iteration 801 / 1650) loss: 0.360499\n",
      "(Iteration 811 / 1650) loss: 0.277772\n",
      "(Iteration 821 / 1650) loss: 0.655245\n",
      "(Epoch 5 / 10) train RMS loss: 0.585579; val RMS loss: 0.602409\n",
      "(Iteration 831 / 1650) loss: 0.301271\n",
      "(Iteration 841 / 1650) loss: 0.321270\n",
      "(Iteration 851 / 1650) loss: 0.306941\n",
      "(Iteration 861 / 1650) loss: 0.234230\n",
      "(Iteration 871 / 1650) loss: 0.477739\n",
      "(Iteration 881 / 1650) loss: 0.445996\n",
      "(Iteration 891 / 1650) loss: 0.359136\n",
      "(Iteration 901 / 1650) loss: 0.270980\n",
      "(Iteration 911 / 1650) loss: 0.371534\n",
      "(Iteration 921 / 1650) loss: 0.388737\n",
      "(Iteration 931 / 1650) loss: 0.416993\n",
      "(Iteration 941 / 1650) loss: 0.293302\n",
      "(Iteration 951 / 1650) loss: 0.373247\n",
      "(Iteration 961 / 1650) loss: 0.577320\n",
      "(Iteration 971 / 1650) loss: 0.292891\n",
      "(Iteration 981 / 1650) loss: 0.343794\n",
      "(Epoch 6 / 10) train RMS loss: 0.637669; val RMS loss: 0.611429\n",
      "(Iteration 991 / 1650) loss: 0.231781\n",
      "(Iteration 1001 / 1650) loss: 0.327591\n",
      "(Iteration 1011 / 1650) loss: 0.426108\n",
      "(Iteration 1021 / 1650) loss: 0.294062\n",
      "(Iteration 1031 / 1650) loss: 0.534360\n",
      "(Iteration 1041 / 1650) loss: 0.256620\n",
      "(Iteration 1051 / 1650) loss: 0.318220\n",
      "(Iteration 1061 / 1650) loss: 0.361609\n",
      "(Iteration 1071 / 1650) loss: 0.358336\n",
      "(Iteration 1081 / 1650) loss: 0.230946\n",
      "(Iteration 1091 / 1650) loss: 0.390365\n",
      "(Iteration 1101 / 1650) loss: 0.407007\n",
      "(Iteration 1111 / 1650) loss: 0.413642\n",
      "(Iteration 1121 / 1650) loss: 0.373317\n",
      "(Iteration 1131 / 1650) loss: 0.450633\n",
      "(Iteration 1141 / 1650) loss: 0.222062\n",
      "(Iteration 1151 / 1650) loss: 0.457508\n",
      "(Epoch 7 / 10) train RMS loss: 0.578952; val RMS loss: 0.584997\n",
      "(Iteration 1161 / 1650) loss: 0.348934\n",
      "(Iteration 1171 / 1650) loss: 0.291742\n",
      "(Iteration 1181 / 1650) loss: 0.442220\n",
      "(Iteration 1191 / 1650) loss: 0.588810\n",
      "(Iteration 1201 / 1650) loss: 0.562985\n",
      "(Iteration 1211 / 1650) loss: 0.368955\n",
      "(Iteration 1221 / 1650) loss: 0.533698\n",
      "(Iteration 1231 / 1650) loss: 0.255690\n",
      "(Iteration 1241 / 1650) loss: 0.229647\n",
      "(Iteration 1251 / 1650) loss: 0.356379\n",
      "(Iteration 1261 / 1650) loss: 0.275227\n",
      "(Iteration 1271 / 1650) loss: 0.380867\n",
      "(Iteration 1281 / 1650) loss: 0.309451\n",
      "(Iteration 1291 / 1650) loss: 0.578603\n",
      "(Iteration 1301 / 1650) loss: 0.358665\n",
      "(Iteration 1311 / 1650) loss: 0.486338\n",
      "(Epoch 8 / 10) train RMS loss: 0.665291; val RMS loss: 0.672050\n",
      "(Iteration 1321 / 1650) loss: 0.395500\n",
      "(Iteration 1331 / 1650) loss: 0.210497\n",
      "(Iteration 1341 / 1650) loss: 0.273696\n",
      "(Iteration 1351 / 1650) loss: 0.359000\n",
      "(Iteration 1361 / 1650) loss: 0.479066\n",
      "(Iteration 1371 / 1650) loss: 0.494131\n",
      "(Iteration 1381 / 1650) loss: 0.309440\n",
      "(Iteration 1391 / 1650) loss: 0.331793\n",
      "(Iteration 1401 / 1650) loss: 0.260626\n",
      "(Iteration 1411 / 1650) loss: 0.372456\n",
      "(Iteration 1421 / 1650) loss: 0.315646\n",
      "(Iteration 1431 / 1650) loss: 0.319498\n",
      "(Iteration 1441 / 1650) loss: 0.324598\n",
      "(Iteration 1451 / 1650) loss: 0.391827\n",
      "(Iteration 1461 / 1650) loss: 0.248641\n",
      "(Iteration 1471 / 1650) loss: 0.517960\n",
      "(Iteration 1481 / 1650) loss: 0.229481\n",
      "(Epoch 9 / 10) train RMS loss: 0.583276; val RMS loss: 0.575911\n",
      "(Iteration 1491 / 1650) loss: 0.316708\n",
      "(Iteration 1501 / 1650) loss: 0.291771\n",
      "(Iteration 1511 / 1650) loss: 0.268910\n",
      "(Iteration 1521 / 1650) loss: 0.450799\n",
      "(Iteration 1531 / 1650) loss: 0.336085\n",
      "(Iteration 1541 / 1650) loss: 0.273079\n",
      "(Iteration 1551 / 1650) loss: 0.360372\n",
      "(Iteration 1561 / 1650) loss: 0.447408\n",
      "(Iteration 1571 / 1650) loss: 0.379522\n",
      "(Iteration 1581 / 1650) loss: 0.369544\n",
      "(Iteration 1591 / 1650) loss: 0.704303\n",
      "(Iteration 1601 / 1650) loss: 0.435453\n",
      "(Iteration 1611 / 1650) loss: 0.226184\n",
      "(Iteration 1621 / 1650) loss: 0.275963\n",
      "(Iteration 1631 / 1650) loss: 0.307847\n",
      "(Iteration 1641 / 1650) loss: 0.320385\n",
      "(Epoch 10 / 10) train RMS loss: 0.740289; val RMS loss: 0.736712\n"
     ]
    }
   ],
   "execution_count": 40
  },
  {
   "cell_type": "code",
   "id": "43e51742",
   "metadata": {
    "colab": {
     "base_uri": "https://localhost:8080/",
     "height": 1000
    },
    "id": "43e51742",
    "outputId": "ba41dcd1-3573-454f-e387-d82cc831ea08",
    "scrolled": true,
    "ExecuteTime": {
     "end_time": "2025-03-31T10:35:50.375307Z",
     "start_time": "2025-03-31T10:35:50.176352Z"
    }
   },
   "source": [
    "# Run this cell to visualize training loss and train / val RMS error\n",
    "\n",
    "plt.subplot(2, 1, 1)\n",
    "plt.title('Training loss')\n",
    "plt.plot(california_housing_solver.loss_history, 'o')\n",
    "plt.xlabel('Iteration')\n",
    "\n",
    "plt.subplot(2, 1, 2)\n",
    "plt.title('RMS Error')\n",
    "plt.plot(california_housing_solver.train_acc_history, '-o', label='train')\n",
    "plt.plot(california_housing_solver.val_acc_history, '-o', label='val')\n",
    "plt.xlabel('Epoch')\n",
    "plt.legend(loc='lower right')\n",
    "plt.gcf().set_size_inches(15, 12)\n",
    "plt.show()"
   ],
   "outputs": [
    {
     "data": {
      "text/plain": [
       "<Figure size 1500x1200 with 2 Axes>"
      ],
      "image/png": "[encoded data removed]"
     },
     "metadata": {},
     "output_type": "display_data"
    }
   ],
   "execution_count": 41
  },
  {
   "cell_type": "markdown",
   "id": "d9144480",
   "metadata": {
    "id": "d9144480"
   },
   "source": [
    "# Test Your Model!\n",
    "Run your best model on the test set. The maximum acceptable RMS error is 1.4."
   ]
  },
  {
   "cell_type": "code",
   "id": "4CjuSbRGNeUK",
   "metadata": {
    "colab": {
     "base_uri": "https://localhost:8080/"
    },
    "id": "4CjuSbRGNeUK",
    "outputId": "7f719440-7205-4667-f8bc-a0c1e81daf36",
    "ExecuteTime": {
     "end_time": "2025-03-31T10:36:00.819296Z",
     "start_time": "2025-03-31T10:36:00.805642Z"
    }
   },
   "source": [
    "y_test_pred = california_housing_best_model.loss(data['X_test'])\n",
    "print('Test set RMS error: ', np.sqrt(mse_loss(y_test_pred, data['y_test'])[0]))"
   ],
   "outputs": [
    {
     "name": "stdout",
     "output_type": "stream",
     "text": [
      "Test set RMS error:  0.709268408928615\n"
     ]
    }
   ],
   "execution_count": 43
  },
  {
   "metadata": {},
   "cell_type": "code",
   "outputs": [],
   "execution_count": null,
   "source": "",
   "id": "37b1566811eefdd1"
  }
 ],
 "metadata": {
  "colab": {
   "provenance": []
  },
  "kernelspec": {
   "display_name": "Python 3 (ipykernel)",
   "language": "python",
   "name": "python3"
  },
  "language_info": {
   "codemirror_mode": {
    "name": "ipython",
    "version": 3
   },
   "file_extension": ".py",
   "mimetype": "text/x-python",
   "name": "python",
   "nbconvert_exporter": "python",
   "pygments_lexer": "ipython3",
   "version": "3.9.7"
  }
 },
 "nbformat": 4,
 "nbformat_minor": 5
}
